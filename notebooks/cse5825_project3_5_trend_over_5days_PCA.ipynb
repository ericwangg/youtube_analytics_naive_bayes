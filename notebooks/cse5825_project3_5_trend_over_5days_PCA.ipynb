{
 "cells": [
  {
   "cell_type": "code",
   "execution_count": 1,
   "metadata": {},
   "outputs": [],
   "source": [
    "import os\n",
    "import pandas as pd\n",
    "import numpy as np\n",
    "import json\n",
    "import matplotlib.pyplot as plt\n",
    "plt.style.use('fivethirtyeight')\n",
    "import seaborn as sns\n",
    "import warnings\n",
    "warnings.filterwarnings('ignore')\n",
    "from tqdm.notebook import tqdm\n",
    "import collections\n",
    "import pickle\n",
    "import gc"
   ]
  },
  {
   "cell_type": "code",
   "execution_count": 2,
   "metadata": {},
   "outputs": [],
   "source": [
    "df = pd.read_csv('yt_allcountry_trend5days_nostr.csv', index_col=None)"
   ]
  },
  {
   "cell_type": "code",
   "execution_count": 3,
   "metadata": {},
   "outputs": [
    {
     "data": {
      "text/html": [
       "<div>\n",
       "<style scoped>\n",
       "    .dataframe tbody tr th:only-of-type {\n",
       "        vertical-align: middle;\n",
       "    }\n",
       "\n",
       "    .dataframe tbody tr th {\n",
       "        vertical-align: top;\n",
       "    }\n",
       "\n",
       "    .dataframe thead th {\n",
       "        text-align: right;\n",
       "    }\n",
       "</style>\n",
       "<table border=\"1\" class=\"dataframe\">\n",
       "  <thead>\n",
       "    <tr style=\"text-align: right;\">\n",
       "      <th></th>\n",
       "      <th>views</th>\n",
       "      <th>likes</th>\n",
       "      <th>dislikes</th>\n",
       "      <th>comment_count</th>\n",
       "      <th>trend_over_5_days</th>\n",
       "    </tr>\n",
       "  </thead>\n",
       "  <tbody>\n",
       "    <tr>\n",
       "      <th>0</th>\n",
       "      <td>17158579</td>\n",
       "      <td>787425</td>\n",
       "      <td>43420</td>\n",
       "      <td>125882</td>\n",
       "      <td>1</td>\n",
       "    </tr>\n",
       "    <tr>\n",
       "      <th>1</th>\n",
       "      <td>1014651</td>\n",
       "      <td>127794</td>\n",
       "      <td>1688</td>\n",
       "      <td>13030</td>\n",
       "      <td>0</td>\n",
       "    </tr>\n",
       "    <tr>\n",
       "      <th>2</th>\n",
       "      <td>3191434</td>\n",
       "      <td>146035</td>\n",
       "      <td>5339</td>\n",
       "      <td>8181</td>\n",
       "      <td>1</td>\n",
       "    </tr>\n",
       "    <tr>\n",
       "      <th>3</th>\n",
       "      <td>2095828</td>\n",
       "      <td>132239</td>\n",
       "      <td>1989</td>\n",
       "      <td>17518</td>\n",
       "      <td>1</td>\n",
       "    </tr>\n",
       "    <tr>\n",
       "      <th>4</th>\n",
       "      <td>33523622</td>\n",
       "      <td>1634130</td>\n",
       "      <td>21082</td>\n",
       "      <td>85067</td>\n",
       "      <td>1</td>\n",
       "    </tr>\n",
       "    <tr>\n",
       "      <th>...</th>\n",
       "      <td>...</td>\n",
       "      <td>...</td>\n",
       "      <td>...</td>\n",
       "      <td>...</td>\n",
       "      <td>...</td>\n",
       "    </tr>\n",
       "    <tr>\n",
       "      <th>178694</th>\n",
       "      <td>279728</td>\n",
       "      <td>19691</td>\n",
       "      <td>135</td>\n",
       "      <td>579</td>\n",
       "      <td>0</td>\n",
       "    </tr>\n",
       "    <tr>\n",
       "      <th>178695</th>\n",
       "      <td>1549110</td>\n",
       "      <td>21905</td>\n",
       "      <td>1516</td>\n",
       "      <td>1318</td>\n",
       "      <td>0</td>\n",
       "    </tr>\n",
       "    <tr>\n",
       "      <th>178696</th>\n",
       "      <td>2183462</td>\n",
       "      <td>79677</td>\n",
       "      <td>2034</td>\n",
       "      <td>3464</td>\n",
       "      <td>0</td>\n",
       "    </tr>\n",
       "    <tr>\n",
       "      <th>178697</th>\n",
       "      <td>607422</td>\n",
       "      <td>26166</td>\n",
       "      <td>895</td>\n",
       "      <td>3517</td>\n",
       "      <td>0</td>\n",
       "    </tr>\n",
       "    <tr>\n",
       "      <th>178698</th>\n",
       "      <td>296295</td>\n",
       "      <td>8157</td>\n",
       "      <td>294</td>\n",
       "      <td>764</td>\n",
       "      <td>0</td>\n",
       "    </tr>\n",
       "  </tbody>\n",
       "</table>\n",
       "<p>178699 rows × 5 columns</p>\n",
       "</div>"
      ],
      "text/plain": [
       "           views    likes  dislikes  comment_count  trend_over_5_days\n",
       "0       17158579   787425     43420         125882                  1\n",
       "1        1014651   127794      1688          13030                  0\n",
       "2        3191434   146035      5339           8181                  1\n",
       "3        2095828   132239      1989          17518                  1\n",
       "4       33523622  1634130     21082          85067                  1\n",
       "...          ...      ...       ...            ...                ...\n",
       "178694    279728    19691       135            579                  0\n",
       "178695   1549110    21905      1516           1318                  0\n",
       "178696   2183462    79677      2034           3464                  0\n",
       "178697    607422    26166       895           3517                  0\n",
       "178698    296295     8157       294            764                  0\n",
       "\n",
       "[178699 rows x 5 columns]"
      ]
     },
     "execution_count": 3,
     "metadata": {},
     "output_type": "execute_result"
    }
   ],
   "source": [
    "df"
   ]
  },
  {
   "cell_type": "code",
   "execution_count": 4,
   "metadata": {},
   "outputs": [],
   "source": [
    "# df['trend_over_5_days'] = np.where(df[\"trend_days\"]>5, 1, 0)"
   ]
  },
  {
   "cell_type": "code",
   "execution_count": 5,
   "metadata": {},
   "outputs": [],
   "source": [
    "X = df.drop(['trend_over_5_days'],axis=1)\n",
    "y = df['trend_over_5_days']"
   ]
  },
  {
   "cell_type": "code",
   "execution_count": 6,
   "metadata": {},
   "outputs": [
    {
     "data": {
      "text/html": [
       "<div>\n",
       "<style scoped>\n",
       "    .dataframe tbody tr th:only-of-type {\n",
       "        vertical-align: middle;\n",
       "    }\n",
       "\n",
       "    .dataframe tbody tr th {\n",
       "        vertical-align: top;\n",
       "    }\n",
       "\n",
       "    .dataframe thead th {\n",
       "        text-align: right;\n",
       "    }\n",
       "</style>\n",
       "<table border=\"1\" class=\"dataframe\">\n",
       "  <thead>\n",
       "    <tr style=\"text-align: right;\">\n",
       "      <th></th>\n",
       "      <th>views</th>\n",
       "      <th>likes</th>\n",
       "      <th>dislikes</th>\n",
       "      <th>comment_count</th>\n",
       "    </tr>\n",
       "  </thead>\n",
       "  <tbody>\n",
       "    <tr>\n",
       "      <th>0</th>\n",
       "      <td>17158579</td>\n",
       "      <td>787425</td>\n",
       "      <td>43420</td>\n",
       "      <td>125882</td>\n",
       "    </tr>\n",
       "    <tr>\n",
       "      <th>1</th>\n",
       "      <td>1014651</td>\n",
       "      <td>127794</td>\n",
       "      <td>1688</td>\n",
       "      <td>13030</td>\n",
       "    </tr>\n",
       "    <tr>\n",
       "      <th>2</th>\n",
       "      <td>3191434</td>\n",
       "      <td>146035</td>\n",
       "      <td>5339</td>\n",
       "      <td>8181</td>\n",
       "    </tr>\n",
       "    <tr>\n",
       "      <th>3</th>\n",
       "      <td>2095828</td>\n",
       "      <td>132239</td>\n",
       "      <td>1989</td>\n",
       "      <td>17518</td>\n",
       "    </tr>\n",
       "    <tr>\n",
       "      <th>4</th>\n",
       "      <td>33523622</td>\n",
       "      <td>1634130</td>\n",
       "      <td>21082</td>\n",
       "      <td>85067</td>\n",
       "    </tr>\n",
       "    <tr>\n",
       "      <th>...</th>\n",
       "      <td>...</td>\n",
       "      <td>...</td>\n",
       "      <td>...</td>\n",
       "      <td>...</td>\n",
       "    </tr>\n",
       "    <tr>\n",
       "      <th>178694</th>\n",
       "      <td>279728</td>\n",
       "      <td>19691</td>\n",
       "      <td>135</td>\n",
       "      <td>579</td>\n",
       "    </tr>\n",
       "    <tr>\n",
       "      <th>178695</th>\n",
       "      <td>1549110</td>\n",
       "      <td>21905</td>\n",
       "      <td>1516</td>\n",
       "      <td>1318</td>\n",
       "    </tr>\n",
       "    <tr>\n",
       "      <th>178696</th>\n",
       "      <td>2183462</td>\n",
       "      <td>79677</td>\n",
       "      <td>2034</td>\n",
       "      <td>3464</td>\n",
       "    </tr>\n",
       "    <tr>\n",
       "      <th>178697</th>\n",
       "      <td>607422</td>\n",
       "      <td>26166</td>\n",
       "      <td>895</td>\n",
       "      <td>3517</td>\n",
       "    </tr>\n",
       "    <tr>\n",
       "      <th>178698</th>\n",
       "      <td>296295</td>\n",
       "      <td>8157</td>\n",
       "      <td>294</td>\n",
       "      <td>764</td>\n",
       "    </tr>\n",
       "  </tbody>\n",
       "</table>\n",
       "<p>178699 rows × 4 columns</p>\n",
       "</div>"
      ],
      "text/plain": [
       "           views    likes  dislikes  comment_count\n",
       "0       17158579   787425     43420         125882\n",
       "1        1014651   127794      1688          13030\n",
       "2        3191434   146035      5339           8181\n",
       "3        2095828   132239      1989          17518\n",
       "4       33523622  1634130     21082          85067\n",
       "...          ...      ...       ...            ...\n",
       "178694    279728    19691       135            579\n",
       "178695   1549110    21905      1516           1318\n",
       "178696   2183462    79677      2034           3464\n",
       "178697    607422    26166       895           3517\n",
       "178698    296295     8157       294            764\n",
       "\n",
       "[178699 rows x 4 columns]"
      ]
     },
     "execution_count": 6,
     "metadata": {},
     "output_type": "execute_result"
    }
   ],
   "source": [
    "X"
   ]
  },
  {
   "cell_type": "code",
   "execution_count": 7,
   "metadata": {},
   "outputs": [
    {
     "data": {
      "text/plain": [
       "0         1\n",
       "1         0\n",
       "2         1\n",
       "3         1\n",
       "4         1\n",
       "         ..\n",
       "178694    0\n",
       "178695    0\n",
       "178696    0\n",
       "178697    0\n",
       "178698    0\n",
       "Name: trend_over_5_days, Length: 178699, dtype: int64"
      ]
     },
     "execution_count": 7,
     "metadata": {},
     "output_type": "execute_result"
    }
   ],
   "source": [
    "y"
   ]
  },
  {
   "cell_type": "markdown",
   "metadata": {},
   "source": [
    "### PCA on 4 components?"
   ]
  },
  {
   "cell_type": "code",
   "execution_count": 8,
   "metadata": {},
   "outputs": [
    {
     "data": {
      "text/plain": [
       "PCA(copy=True, iterated_power='auto', n_components=4, random_state=None,\n",
       "    svd_solver='auto', tol=0.0, whiten=False)"
      ]
     },
     "execution_count": 8,
     "metadata": {},
     "output_type": "execute_result"
    }
   ],
   "source": [
    "from sklearn.decomposition import PCA\n",
    "\n",
    "pca = PCA(n_components=4)\n",
    "pca.fit(X)"
   ]
  },
  {
   "cell_type": "code",
   "execution_count": 9,
   "metadata": {},
   "outputs": [
    {
     "data": {
      "image/png": "[encoded data removed]",
      "text/plain": [
       "<Figure size 432x288 with 1 Axes>"
      ]
     },
     "metadata": {},
     "output_type": "display_data"
    },
    {
     "data": {
      "text/plain": [
       "None"
      ]
     },
     "metadata": {},
     "output_type": "display_data"
    },
    {
     "data": {
      "text/html": [
       "<div>\n",
       "<style scoped>\n",
       "    .dataframe tbody tr th:only-of-type {\n",
       "        vertical-align: middle;\n",
       "    }\n",
       "\n",
       "    .dataframe tbody tr th {\n",
       "        vertical-align: top;\n",
       "    }\n",
       "\n",
       "    .dataframe thead th {\n",
       "        text-align: right;\n",
       "    }\n",
       "</style>\n",
       "<table border=\"1\" class=\"dataframe\">\n",
       "  <thead>\n",
       "    <tr style=\"text-align: right;\">\n",
       "      <th></th>\n",
       "      <th>Cumulative Variance Ratio</th>\n",
       "      <th>Explained Variance Ratio</th>\n",
       "    </tr>\n",
       "  </thead>\n",
       "  <tbody>\n",
       "    <tr>\n",
       "      <th>0</th>\n",
       "      <td>0.998518</td>\n",
       "      <td>0.998518</td>\n",
       "    </tr>\n",
       "    <tr>\n",
       "      <th>1</th>\n",
       "      <td>0.999936</td>\n",
       "      <td>0.001419</td>\n",
       "    </tr>\n",
       "    <tr>\n",
       "      <th>2</th>\n",
       "      <td>0.999983</td>\n",
       "      <td>0.000047</td>\n",
       "    </tr>\n",
       "    <tr>\n",
       "      <th>3</th>\n",
       "      <td>1.000000</td>\n",
       "      <td>0.000017</td>\n",
       "    </tr>\n",
       "  </tbody>\n",
       "</table>\n",
       "</div>"
      ],
      "text/plain": [
       "   Cumulative Variance Ratio  Explained Variance Ratio\n",
       "0                   0.998518                  0.998518\n",
       "1                   0.999936                  0.001419\n",
       "2                   0.999983                  0.000047\n",
       "3                   1.000000                  0.000017"
      ]
     },
     "metadata": {},
     "output_type": "display_data"
    }
   ],
   "source": [
    "sns.set(style='whitegrid')\n",
    "plt.plot(np.cumsum(pca.explained_variance_ratio_))\n",
    "plt.xlabel('number of components')\n",
    "plt.ylabel('cumulative explained variance')\n",
    "# plt.axvline(linewidth=4, color='r', linestyle = '--', x=10, ymin=0, ymax=1)\n",
    "plt.axhline(linewidth=4, color='r', linestyle = '--', y=0.95, xmin=0, xmax=1)\n",
    "plt.axhline(linewidth=4, color='g', linestyle = '--', y=0.90, xmin=0, xmax=1)\n",
    "\n",
    "display(plt.show())\n",
    "\n",
    "evr = pca.explained_variance_ratio_\n",
    "cvr = np.cumsum(pca.explained_variance_ratio_)\n",
    "pca_df = pd.DataFrame()\n",
    "pca_df['Cumulative Variance Ratio'] = cvr\n",
    "pca_df['Explained Variance Ratio'] = evr\n",
    "display(pca_df.head(10))"
   ]
  },
  {
   "cell_type": "markdown",
   "metadata": {},
   "source": [
    "### 1 component can explain 99.85% of the explained variance!?"
   ]
  },
  {
   "cell_type": "code",
   "execution_count": 10,
   "metadata": {},
   "outputs": [],
   "source": [
    "pca = PCA(n_components=1)\n",
    "X_pca = pca.fit_transform(X)"
   ]
  },
  {
   "cell_type": "code",
   "execution_count": 11,
   "metadata": {},
   "outputs": [
    {
     "data": {
      "text/plain": [
       "array([0.9985179])"
      ]
     },
     "execution_count": 11,
     "metadata": {},
     "output_type": "execute_result"
    }
   ],
   "source": [
    "pca.explained_variance_ratio_"
   ]
  },
  {
   "cell_type": "code",
   "execution_count": 12,
   "metadata": {},
   "outputs": [
    {
     "data": {
      "text/plain": [
       "array([[16985326.77388195],\n",
       "       [  828082.1382451 ],\n",
       "       [ 3004261.0713215 ],\n",
       "       ...,\n",
       "       [ 1994642.689757  ],\n",
       "       [  417710.17138338],\n",
       "       [  106151.26246091]])"
      ]
     },
     "execution_count": 12,
     "metadata": {},
     "output_type": "execute_result"
    }
   ],
   "source": [
    "X_pca"
   ]
  },
  {
   "cell_type": "code",
   "execution_count": 15,
   "metadata": {},
   "outputs": [
    {
     "data": {
      "text/html": [
       "<div>\n",
       "<style scoped>\n",
       "    .dataframe tbody tr th:only-of-type {\n",
       "        vertical-align: middle;\n",
       "    }\n",
       "\n",
       "    .dataframe tbody tr th {\n",
       "        vertical-align: top;\n",
       "    }\n",
       "\n",
       "    .dataframe thead th {\n",
       "        text-align: right;\n",
       "    }\n",
       "</style>\n",
       "<table border=\"1\" class=\"dataframe\">\n",
       "  <thead>\n",
       "    <tr style=\"text-align: right;\">\n",
       "      <th></th>\n",
       "      <th>PCA_1</th>\n",
       "    </tr>\n",
       "  </thead>\n",
       "  <tbody>\n",
       "    <tr>\n",
       "      <th>0</th>\n",
       "      <td>1.698533e+07</td>\n",
       "    </tr>\n",
       "    <tr>\n",
       "      <th>1</th>\n",
       "      <td>8.280821e+05</td>\n",
       "    </tr>\n",
       "    <tr>\n",
       "      <th>2</th>\n",
       "      <td>3.004261e+06</td>\n",
       "    </tr>\n",
       "    <tr>\n",
       "      <th>3</th>\n",
       "      <td>1.908834e+06</td>\n",
       "    </tr>\n",
       "    <tr>\n",
       "      <th>4</th>\n",
       "      <td>3.336893e+07</td>\n",
       "    </tr>\n",
       "    <tr>\n",
       "      <th>...</th>\n",
       "      <td>...</td>\n",
       "    </tr>\n",
       "    <tr>\n",
       "      <th>178694</th>\n",
       "      <td>8.996948e+04</td>\n",
       "    </tr>\n",
       "    <tr>\n",
       "      <th>178695</th>\n",
       "      <td>1.358737e+06</td>\n",
       "    </tr>\n",
       "    <tr>\n",
       "      <th>178696</th>\n",
       "      <td>1.994643e+06</td>\n",
       "    </tr>\n",
       "    <tr>\n",
       "      <th>178697</th>\n",
       "      <td>4.177102e+05</td>\n",
       "    </tr>\n",
       "    <tr>\n",
       "      <th>178698</th>\n",
       "      <td>1.061513e+05</td>\n",
       "    </tr>\n",
       "  </tbody>\n",
       "</table>\n",
       "<p>178699 rows × 1 columns</p>\n",
       "</div>"
      ],
      "text/plain": [
       "               PCA_1\n",
       "0       1.698533e+07\n",
       "1       8.280821e+05\n",
       "2       3.004261e+06\n",
       "3       1.908834e+06\n",
       "4       3.336893e+07\n",
       "...              ...\n",
       "178694  8.996948e+04\n",
       "178695  1.358737e+06\n",
       "178696  1.994643e+06\n",
       "178697  4.177102e+05\n",
       "178698  1.061513e+05\n",
       "\n",
       "[178699 rows x 1 columns]"
      ]
     },
     "execution_count": 15,
     "metadata": {},
     "output_type": "execute_result"
    }
   ],
   "source": [
    "df_pca = pd.DataFrame(X_pca, columns = ['PCA_1'])\n",
    "df_pca"
   ]
  },
  {
   "cell_type": "markdown",
   "metadata": {},
   "source": [
    "## X use subsets\n",
    "\n",
    "total n = 178699\n",
    "\n",
    "1. n = 10000\n",
    "2. n = 50000\n",
    "3. n = 100000\n",
    "\n",
    "## Then Test Train split"
   ]
  },
  {
   "cell_type": "code",
   "execution_count": 16,
   "metadata": {},
   "outputs": [],
   "source": [
    "X_10k = df_pca[:10000]\n",
    "X_50k = df_pca[:50000]\n",
    "X_100k = df_pca[:100000]\n",
    "\n",
    "y_10k = y[:10000]\n",
    "y_50k = y[:50000]\n",
    "y_100k = y[:100000]"
   ]
  },
  {
   "cell_type": "code",
   "execution_count": 17,
   "metadata": {},
   "outputs": [],
   "source": [
    "from sklearn.model_selection import train_test_split\n",
    "\n",
    "X_train, X_test, y_train, y_test = train_test_split(df_pca, y, test_size=0.25, random_state=42)\n",
    "X_train_10k, X_test_10k, y_train_10k, y_test_10k = train_test_split(X_10k, y_10k, test_size=0.25, random_state=42)\n",
    "X_train_50k, X_test_50k, y_train_50k, y_test_50k = train_test_split(X_50k, y_50k, test_size=0.25, random_state=42)\n",
    "X_train_100k, X_test_100k, y_train_100k, y_test_100k = train_test_split(X_100k, y_100k, test_size=0.25, random_state=42)"
   ]
  },
  {
   "cell_type": "code",
   "execution_count": 18,
   "metadata": {},
   "outputs": [
    {
     "data": {
      "text/html": [
       "<div>\n",
       "<style scoped>\n",
       "    .dataframe tbody tr th:only-of-type {\n",
       "        vertical-align: middle;\n",
       "    }\n",
       "\n",
       "    .dataframe tbody tr th {\n",
       "        vertical-align: top;\n",
       "    }\n",
       "\n",
       "    .dataframe thead th {\n",
       "        text-align: right;\n",
       "    }\n",
       "</style>\n",
       "<table border=\"1\" class=\"dataframe\">\n",
       "  <thead>\n",
       "    <tr style=\"text-align: right;\">\n",
       "      <th></th>\n",
       "      <th>PCA_1</th>\n",
       "    </tr>\n",
       "  </thead>\n",
       "  <tbody>\n",
       "    <tr>\n",
       "      <th>113617</th>\n",
       "      <td>-63399.010629</td>\n",
       "    </tr>\n",
       "    <tr>\n",
       "      <th>65534</th>\n",
       "      <td>-175598.583473</td>\n",
       "    </tr>\n",
       "    <tr>\n",
       "      <th>126111</th>\n",
       "      <td>-180685.211222</td>\n",
       "    </tr>\n",
       "    <tr>\n",
       "      <th>8740</th>\n",
       "      <td>-158117.975051</td>\n",
       "    </tr>\n",
       "    <tr>\n",
       "      <th>57496</th>\n",
       "      <td>-178476.489175</td>\n",
       "    </tr>\n",
       "    <tr>\n",
       "      <th>...</th>\n",
       "      <td>...</td>\n",
       "    </tr>\n",
       "    <tr>\n",
       "      <th>119879</th>\n",
       "      <td>-182259.700562</td>\n",
       "    </tr>\n",
       "    <tr>\n",
       "      <th>103694</th>\n",
       "      <td>-112031.366070</td>\n",
       "    </tr>\n",
       "    <tr>\n",
       "      <th>131932</th>\n",
       "      <td>-92028.654403</td>\n",
       "    </tr>\n",
       "    <tr>\n",
       "      <th>146867</th>\n",
       "      <td>-173672.747425</td>\n",
       "    </tr>\n",
       "    <tr>\n",
       "      <th>121958</th>\n",
       "      <td>-123835.103297</td>\n",
       "    </tr>\n",
       "  </tbody>\n",
       "</table>\n",
       "<p>134024 rows × 1 columns</p>\n",
       "</div>"
      ],
      "text/plain": [
       "                PCA_1\n",
       "113617  -63399.010629\n",
       "65534  -175598.583473\n",
       "126111 -180685.211222\n",
       "8740   -158117.975051\n",
       "57496  -178476.489175\n",
       "...               ...\n",
       "119879 -182259.700562\n",
       "103694 -112031.366070\n",
       "131932  -92028.654403\n",
       "146867 -173672.747425\n",
       "121958 -123835.103297\n",
       "\n",
       "[134024 rows x 1 columns]"
      ]
     },
     "execution_count": 18,
     "metadata": {},
     "output_type": "execute_result"
    }
   ],
   "source": [
    "X_train"
   ]
  },
  {
   "cell_type": "code",
   "execution_count": 19,
   "metadata": {},
   "outputs": [
    {
     "data": {
      "text/html": [
       "<div>\n",
       "<style scoped>\n",
       "    .dataframe tbody tr th:only-of-type {\n",
       "        vertical-align: middle;\n",
       "    }\n",
       "\n",
       "    .dataframe tbody tr th {\n",
       "        vertical-align: top;\n",
       "    }\n",
       "\n",
       "    .dataframe thead th {\n",
       "        text-align: right;\n",
       "    }\n",
       "</style>\n",
       "<table border=\"1\" class=\"dataframe\">\n",
       "  <thead>\n",
       "    <tr style=\"text-align: right;\">\n",
       "      <th></th>\n",
       "      <th>PCA_1</th>\n",
       "    </tr>\n",
       "  </thead>\n",
       "  <tbody>\n",
       "    <tr>\n",
       "      <th>117989</th>\n",
       "      <td>-187657.964487</td>\n",
       "    </tr>\n",
       "    <tr>\n",
       "      <th>101258</th>\n",
       "      <td>-159238.430382</td>\n",
       "    </tr>\n",
       "    <tr>\n",
       "      <th>44861</th>\n",
       "      <td>-150972.096325</td>\n",
       "    </tr>\n",
       "    <tr>\n",
       "      <th>5811</th>\n",
       "      <td>-112381.721917</td>\n",
       "    </tr>\n",
       "    <tr>\n",
       "      <th>63847</th>\n",
       "      <td>-53498.503298</td>\n",
       "    </tr>\n",
       "    <tr>\n",
       "      <th>...</th>\n",
       "      <td>...</td>\n",
       "    </tr>\n",
       "    <tr>\n",
       "      <th>131037</th>\n",
       "      <td>-181979.183894</td>\n",
       "    </tr>\n",
       "    <tr>\n",
       "      <th>112353</th>\n",
       "      <td>97086.233290</td>\n",
       "    </tr>\n",
       "    <tr>\n",
       "      <th>75019</th>\n",
       "      <td>-112185.066005</td>\n",
       "    </tr>\n",
       "    <tr>\n",
       "      <th>93855</th>\n",
       "      <td>-101514.186902</td>\n",
       "    </tr>\n",
       "    <tr>\n",
       "      <th>118285</th>\n",
       "      <td>-187004.754247</td>\n",
       "    </tr>\n",
       "  </tbody>\n",
       "</table>\n",
       "<p>44675 rows × 1 columns</p>\n",
       "</div>"
      ],
      "text/plain": [
       "                PCA_1\n",
       "117989 -187657.964487\n",
       "101258 -159238.430382\n",
       "44861  -150972.096325\n",
       "5811   -112381.721917\n",
       "63847   -53498.503298\n",
       "...               ...\n",
       "131037 -181979.183894\n",
       "112353   97086.233290\n",
       "75019  -112185.066005\n",
       "93855  -101514.186902\n",
       "118285 -187004.754247\n",
       "\n",
       "[44675 rows x 1 columns]"
      ]
     },
     "execution_count": 19,
     "metadata": {},
     "output_type": "execute_result"
    }
   ],
   "source": [
    "X_test"
   ]
  },
  {
   "cell_type": "code",
   "execution_count": null,
   "metadata": {},
   "outputs": [],
   "source": []
  },
  {
   "cell_type": "markdown",
   "metadata": {},
   "source": [
    "### Classifier 1: Naive Bayes - Gaussian Naive Bayes"
   ]
  },
  {
   "cell_type": "code",
   "execution_count": 20,
   "metadata": {},
   "outputs": [],
   "source": [
    "from sklearn.naive_bayes import GaussianNB, BernoulliNB, MultinomialNB, CategoricalNB\n",
    "\n",
    "from sklearn.metrics import precision_score, recall_score, f1_score\n",
    "from sklearn.metrics import precision_recall_curve"
   ]
  },
  {
   "cell_type": "code",
   "execution_count": 21,
   "metadata": {},
   "outputs": [
    {
     "name": "stdout",
     "output_type": "stream",
     "text": [
      "Accuracy Score: 0.9641857862339116\n",
      "Precision Score: 0.27702702702702703\n",
      "Recall Score: 0.12275449101796407\n",
      "F1 Score: 0.17012448132780084\n",
      "Wall time: 28.5 ms\n"
     ]
    }
   ],
   "source": [
    "%%time\n",
    "GNB = GaussianNB()\n",
    "GNB.fit(X_train, y_train)\n",
    "\n",
    "GNB_predicted = GNB.predict(X_test)\n",
    "GNB_precision = precision_score(y_test, GNB_predicted)\n",
    "GNB_recall = recall_score(y_test, GNB_predicted)\n",
    "GNB_f1 = f1_score(y_test, GNB_predicted)\n",
    "\n",
    "print(f'Accuracy Score: {GNB.score(X_test, y_test)}')\n",
    "print(f'Precision Score: {GNB_precision}')\n",
    "print(f'Recall Score: {GNB_recall}')\n",
    "print(f'F1 Score: {GNB_f1}')"
   ]
  },
  {
   "cell_type": "code",
   "execution_count": 22,
   "metadata": {},
   "outputs": [
    {
     "name": "stdout",
     "output_type": "stream",
     "text": [
      "Accuracy Score: 0.9004\n",
      "Precision Score: 0.375\n",
      "Recall Score: 0.13100436681222707\n",
      "F1 Score: 0.19417475728155342\n",
      "Wall time: 4.5 ms\n"
     ]
    }
   ],
   "source": [
    "%%time\n",
    "GNB = GaussianNB()\n",
    "GNB.fit(X_train_10k, y_train_10k)\n",
    "\n",
    "GNB_predicted = GNB.predict(X_test_10k)\n",
    "GNB_precision = precision_score(y_test_10k, GNB_predicted)\n",
    "GNB_recall = recall_score(y_test_10k, GNB_predicted)\n",
    "GNB_f1 = f1_score(y_test_10k, GNB_predicted)\n",
    "\n",
    "print(f'Accuracy Score: {GNB.score(X_test_10k, y_test_10k)}')\n",
    "print(f'Precision Score: {GNB_precision}')\n",
    "print(f'Recall Score: {GNB_recall}')\n",
    "print(f'F1 Score: {GNB_f1}')"
   ]
  },
  {
   "cell_type": "code",
   "execution_count": 23,
   "metadata": {},
   "outputs": [
    {
     "name": "stdout",
     "output_type": "stream",
     "text": [
      "Accuracy Score: 0.94784\n",
      "Precision Score: 0.3411764705882353\n",
      "Recall Score: 0.15236427320490367\n",
      "F1 Score: 0.2106537530266344\n",
      "Wall time: 9.01 ms\n"
     ]
    }
   ],
   "source": [
    "%%time\n",
    "GNB = GaussianNB()\n",
    "GNB.fit(X_train_50k, y_train_50k)\n",
    "\n",
    "GNB_predicted = GNB.predict(X_test_50k)\n",
    "GNB_precision = precision_score(y_test_50k, GNB_predicted)\n",
    "GNB_recall = recall_score(y_test_50k, GNB_predicted)\n",
    "GNB_f1 = f1_score(y_test_50k, GNB_predicted)\n",
    "\n",
    "print(f'Accuracy Score: {GNB.score(X_test_50k, y_test_50k)}')\n",
    "print(f'Precision Score: {GNB_precision}')\n",
    "print(f'Recall Score: {GNB_recall}')\n",
    "print(f'F1 Score: {GNB_f1}')"
   ]
  },
  {
   "cell_type": "code",
   "execution_count": 24,
   "metadata": {},
   "outputs": [
    {
     "name": "stdout",
     "output_type": "stream",
     "text": [
      "Accuracy Score: 0.95332\n",
      "Precision Score: 0.34415584415584416\n",
      "Recall Score: 0.15542521994134897\n",
      "F1 Score: 0.21414141414141413\n",
      "Wall time: 15.5 ms\n"
     ]
    }
   ],
   "source": [
    "%%time\n",
    "GNB = GaussianNB()\n",
    "GNB.fit(X_train_100k, y_train_100k)\n",
    "\n",
    "GNB_predicted = GNB.predict(X_test_100k)\n",
    "GNB_precision = precision_score(y_test_100k, GNB_predicted)\n",
    "GNB_recall = recall_score(y_test_100k, GNB_predicted)\n",
    "GNB_f1 = f1_score(y_test_100k, GNB_predicted)\n",
    "\n",
    "print(f'Accuracy Score: {GNB.score(X_test_100k, y_test_100k)}')\n",
    "print(f'Precision Score: {GNB_precision}')\n",
    "print(f'Recall Score: {GNB_recall}')\n",
    "print(f'F1 Score: {GNB_f1}')"
   ]
  },
  {
   "cell_type": "code",
   "execution_count": 25,
   "metadata": {},
   "outputs": [
    {
     "name": "stdout",
     "output_type": "stream",
     "text": [
      "GaussianNB 10-CV score: [0.92126469 0.95422496 0.96552882 0.97437045 0.9616676  0.96614438\n",
      " 0.96205932 0.96149972 0.95148293 0.95327103]\n",
      "GaussianNB 10-fold Cross Val Avg: 0.9571513893174485\n",
      "Wall time: 1.08 s\n"
     ]
    }
   ],
   "source": [
    "%%time\n",
    "from sklearn.model_selection import cross_val_score\n",
    "\n",
    "GNB_cvs = cross_val_score(GNB, X, y, \n",
    "                          cv=10, \n",
    "                          n_jobs=-1,)\n",
    "\n",
    "print(f\"GaussianNB 10-CV score: {GNB_cvs}\")\n",
    "print(f\"GaussianNB 10-fold Cross Val Avg: {np.mean(GNB_cvs)}\")"
   ]
  },
  {
   "cell_type": "code",
   "execution_count": 26,
   "metadata": {},
   "outputs": [
    {
     "name": "stdout",
     "output_type": "stream",
     "text": [
      "44675\n"
     ]
    },
    {
     "data": {
      "text/plain": [
       "array([[0.99181647, 0.00818353],\n",
       "       [0.99194361, 0.00805639],\n",
       "       [0.99197584, 0.00802416],\n",
       "       ...,\n",
       "       [0.99209938, 0.00790062],\n",
       "       [0.99212555, 0.00787445],\n",
       "       [0.99181968, 0.00818032]])"
      ]
     },
     "execution_count": 26,
     "metadata": {},
     "output_type": "execute_result"
    }
   ],
   "source": [
    "print(len(GNB.predict_proba(X_test)))\n",
    "GNB_probs = GNB.predict_proba(X_test)\n",
    "GNB_probs\n",
    "# print(min(GNB_probs[0])"
   ]
  },
  {
   "cell_type": "code",
   "execution_count": 27,
   "metadata": {},
   "outputs": [
    {
     "data": {
      "text/plain": [
       "array([0.99181647, 0.99194361, 0.99197584, ..., 0.99209938, 0.99212555,\n",
       "       0.99181968])"
      ]
     },
     "execution_count": 27,
     "metadata": {},
     "output_type": "execute_result"
    }
   ],
   "source": [
    "GNB_probs[:,0]"
   ]
  },
  {
   "cell_type": "code",
   "execution_count": 28,
   "metadata": {},
   "outputs": [
    {
     "data": {
      "text/plain": [
       "array([0.00818353, 0.00805639, 0.00802416, ..., 0.00790062, 0.00787445,\n",
       "       0.00818032])"
      ]
     },
     "execution_count": 28,
     "metadata": {},
     "output_type": "execute_result"
    }
   ],
   "source": [
    "GNB_probs[:,1]"
   ]
  },
  {
   "cell_type": "code",
   "execution_count": 29,
   "metadata": {},
   "outputs": [
    {
     "name": "stdout",
     "output_type": "stream",
     "text": [
      "min of left col = 0.0, max of right col = 1.0\n",
      "max of left col = 0.9922177963745802, min of right col = 0.007782203625420052\n"
     ]
    }
   ],
   "source": [
    "print(f\"min of left col = {min(GNB_probs[:,0])}, max of right col = {max(GNB_probs[:,1])}\")\n",
    "print(f\"max of left col = {max(GNB_probs[:,0])}, min of right col = {min(GNB_probs[:,1])}\")"
   ]
  },
  {
   "cell_type": "code",
   "execution_count": 30,
   "metadata": {},
   "outputs": [
    {
     "data": {
      "text/plain": [
       "44675"
      ]
     },
     "execution_count": 30,
     "metadata": {},
     "output_type": "execute_result"
    }
   ],
   "source": [
    "len(GNB_probs[:,0])"
   ]
  },
  {
   "cell_type": "code",
   "execution_count": 31,
   "metadata": {},
   "outputs": [
    {
     "data": {
      "image/png": "[encoded data removed]",
      "text/plain": [
       "<Figure size 432x288 with 1 Axes>"
      ]
     },
     "metadata": {},
     "output_type": "display_data"
    }
   ],
   "source": [
    "fig, ax = plt.subplots()\n",
    "plt.scatter(GNB_probs[:,0], GNB_probs[:,1], alpha=0.5)\n",
    "\n",
    "plt.title('Probability of predicting Class 0 vs Class 1')\n",
    "ax.set_xlabel('Probabilty of predicting Class 0')\n",
    "ax.set_ylabel('Probabilty of predicting Class 1')\n",
    "\n",
    "plt.show()"
   ]
  },
  {
   "cell_type": "code",
   "execution_count": 32,
   "metadata": {},
   "outputs": [
    {
     "name": "stdout",
     "output_type": "stream",
     "text": [
      "0 0.9918164672215359\n",
      "1 0.9919436146429494\n",
      "2 0.9919758406763656\n",
      "3 0.9920988696036286\n",
      "4 0.992202671072064\n",
      "5 0.9920143962503237\n",
      "6 0.9921824034524014\n",
      "7 0.9920127591688659\n",
      "8 0.9922079124683401\n",
      "9 0.9920993779422592\n"
     ]
    }
   ],
   "source": [
    "for i, val in enumerate(GNB_probs[:,0]):\n",
    "    if i < 10:\n",
    "        print(i, val)"
   ]
  },
  {
   "cell_type": "code",
   "execution_count": 33,
   "metadata": {},
   "outputs": [
    {
     "data": {
      "image/png": "[encoded data removed]",
      "text/plain": [
       "<Figure size 432x288 with 1 Axes>"
      ]
     },
     "metadata": {},
     "output_type": "display_data"
    }
   ],
   "source": [
    "xrange = [i for i in range(len(GNB_probs[:,0]))]\n",
    "plt.scatter(xrange, GNB_probs[:,0])\n",
    "plt.title('Probability of predicting Class 0')\n",
    "\n",
    "plt.show()"
   ]
  },
  {
   "cell_type": "code",
   "execution_count": 36,
   "metadata": {
    "scrolled": true
   },
   "outputs": [
    {
     "data": {
      "image/png": "[encoded data removed]",
      "text/plain": [
       "<Figure size 1000x800 with 1 Axes>"
      ]
     },
     "metadata": {},
     "output_type": "display_data"
    }
   ],
   "source": [
    "plt.figure(figsize=(10, 8), dpi=100)\n",
    "\n",
    "scatter = plt.scatter(X_test['PCA_1'], GNB_probs[:,1], \n",
    "                        c=y_test, \n",
    "                        cmap='coolwarm',\n",
    "                        alpha=0.6)\n",
    "plt.title('Views to Probability of Predicting Class 1', fontsize='small')\n",
    "plt.xlabel('Views (in millions)', fontsize='small')\n",
    "plt.ylabel('Probability of Predicitng Class 1:\\nA video trends for more than 5 days', fontsize='small')\n",
    "plt.rcParams.update({'font.size': 22})\n",
    "\n",
    "\n",
    "plt.legend(*scatter.legend_elements(), loc='lower right', title='Classes')\n",
    "# ax.legend()\n",
    "\n",
    "plt.show()"
   ]
  },
  {
   "cell_type": "code",
   "execution_count": 37,
   "metadata": {},
   "outputs": [
    {
     "data": {
      "image/png": "[encoded data removed]",
      "text/plain": [
       "<Figure size 1000x800 with 1 Axes>"
      ]
     },
     "metadata": {},
     "output_type": "display_data"
    }
   ],
   "source": [
    "plt.figure(figsize=(10, 8), dpi=100)\n",
    "\n",
    "scatter = plt.scatter(X_test['PCA_1'], GNB_probs[:,0], \n",
    "                        c=y_test, \n",
    "                        cmap='coolwarm',\n",
    "                        alpha=0.6)\n",
    "plt.title('Views to Probability of Predicting Class 0', fontsize='small')\n",
    "plt.xlabel('Views (in millions)', fontsize='small')\n",
    "plt.ylabel('Probability of Predicitng Class 0:\\n A video trends for 5 or less days', fontsize='small')\n",
    "plt.rcParams.update({'font.size': 22})\n",
    "\n",
    "\n",
    "plt.legend(*scatter.legend_elements(), loc='upper right', title='Classes')\n",
    "# ax.legend()\n",
    "\n",
    "plt.show()"
   ]
  },
  {
   "cell_type": "code",
   "execution_count": 39,
   "metadata": {
    "scrolled": true
   },
   "outputs": [
    {
     "data": {
      "image/png": "[encoded data removed]",
      "text/plain": [
       "<Figure size 432x288 with 1 Axes>"
      ]
     },
     "metadata": {},
     "output_type": "display_data"
    }
   ],
   "source": [
    "# xrange = [i for i in range(len(GNB_probs[:,0]))]\n",
    "plt.scatter(xrange, GNB_probs[:,1])\n",
    "plt.title('Probability of predicting Class 1')\n",
    "\n",
    "plt.show()"
   ]
  },
  {
   "cell_type": "markdown",
   "metadata": {},
   "source": [
    "## Histogram to show quantity of predictions to probability"
   ]
  },
  {
   "cell_type": "code",
   "execution_count": 40,
   "metadata": {},
   "outputs": [
    {
     "data": {
      "text/plain": [
       "[0.0,\n",
       " 0.1,\n",
       " 0.2,\n",
       " 0.30000000000000004,\n",
       " 0.4,\n",
       " 0.5,\n",
       " 0.6000000000000001,\n",
       " 0.7000000000000001,\n",
       " 0.8,\n",
       " 0.9]"
      ]
     },
     "execution_count": 40,
     "metadata": {},
     "output_type": "execute_result"
    }
   ],
   "source": [
    "from numpy import arange\n",
    "bins = [i for i in arange(0.0, 1.0, 0.1)]\n",
    "bins "
   ]
  },
  {
   "cell_type": "code",
   "execution_count": 41,
   "metadata": {},
   "outputs": [],
   "source": [
    "import numpy as np"
   ]
  },
  {
   "cell_type": "code",
   "execution_count": 42,
   "metadata": {},
   "outputs": [
    {
     "data": {
      "text/plain": [
       "array([0. , 0.1, 0.2, 0.3, 0.4, 0.5, 0.6, 0.7, 0.8, 0.9, 1. ])"
      ]
     },
     "execution_count": 42,
     "metadata": {},
     "output_type": "execute_result"
    }
   ],
   "source": [
    "bins = np.linspace(0.0,1.0, num=11)\n",
    "bins"
   ]
  },
  {
   "cell_type": "code",
   "execution_count": 44,
   "metadata": {},
   "outputs": [
    {
     "data": {
      "image/png": "[encoded data removed]",
      "text/plain": [
       "<Figure size 1000x800 with 1 Axes>"
      ]
     },
     "metadata": {},
     "output_type": "display_data"
    }
   ],
   "source": [
    "bins2 = 10\n",
    "\n",
    "plt.figure(figsize=(10, 8), dpi=100)\n",
    "\n",
    "arr = plt.hist(GNB_probs[:,0], bins2,\n",
    "#                c=,\n",
    "              )\n",
    "\n",
    "# plt.ylim(0,1000)\n",
    "plt.yscale('log')\n",
    "plt.title('Probability of Predicting Class 0 to Quantity of Predictions',fontsize='small')\n",
    "plt.xlabel('Probability of Predicitng Class 0', fontsize='small')\n",
    "plt.ylabel('Quantity of Predictions (log scale)', fontsize='small')\n",
    "plt.rcParams.update({'font.size': 22})\n",
    "\n",
    "for i in range(bins2):\n",
    "    plt.text(arr[1][i]+0.01,\n",
    "             arr[0][i]+1,\n",
    "             str(arr[0][i]), \n",
    "             fontsize=14, \n",
    "            )\n",
    "    plt.text(arr[1][i],\n",
    "             arr[0][i]/1.5,\n",
    "             str(), \n",
    "             fontsize=14, \n",
    "            )\n",
    "\n",
    "\n",
    "plt.show()"
   ]
  },
  {
   "cell_type": "code",
   "execution_count": 45,
   "metadata": {},
   "outputs": [
    {
     "data": {
      "text/plain": [
       "(array([3.6300e+02, 3.5000e+01, 2.1000e+01, 3.1000e+01, 3.4000e+01,\n",
       "        3.2000e+01, 4.1000e+01, 5.4000e+01, 1.2800e+02, 4.3936e+04]),\n",
       " array([0.        , 0.09922178, 0.19844356, 0.29766534, 0.39688712,\n",
       "        0.4961089 , 0.59533068, 0.69455246, 0.79377424, 0.89299602,\n",
       "        0.9922178 ]),\n",
       " <BarContainer object of 10 artists>)"
      ]
     },
     "execution_count": 45,
     "metadata": {},
     "output_type": "execute_result"
    }
   ],
   "source": [
    "arr"
   ]
  },
  {
   "cell_type": "markdown",
   "metadata": {},
   "source": [
    "## Calibration Curves"
   ]
  },
  {
   "cell_type": "code",
   "execution_count": 47,
   "metadata": {},
   "outputs": [
    {
     "data": {
      "image/png": "[encoded data removed]",
      "text/plain": [
       "<Figure size 720x720 with 2 Axes>"
      ]
     },
     "metadata": {},
     "output_type": "display_data"
    },
    {
     "name": "stdout",
     "output_type": "stream",
     "text": [
      "Wall time: 59.8 s\n"
     ]
    }
   ],
   "source": [
    "%%time\n",
    "from sklearn.naive_bayes import GaussianNB\n",
    "from sklearn.linear_model import LogisticRegression\n",
    "from sklearn.ensemble import RandomForestClassifier\n",
    "from sklearn.svm import LinearSVC, SVC\n",
    "from sklearn.calibration import calibration_curve\n",
    "\n",
    "plt.figure(figsize=(10, 10))\n",
    "ax1 = plt.subplot2grid((3, 1), (0, 0), rowspan=2)\n",
    "ax2 = plt.subplot2grid((3, 1), (2, 0))\n",
    "\n",
    "lr = LogisticRegression()\n",
    "gnb = GaussianNB()\n",
    "svc = SVC()\n",
    "rfc = RandomForestClassifier()\n",
    "\n",
    "ax1.plot([0, 1], [0, 1], \"k:\", label=\"Perfectly calibrated\")\n",
    "for clf, name in [(lr, 'Logistic Regression'),\n",
    "                  (gnb, 'Naive Bayes'),\n",
    "                  (svc, 'Support Vector Machine'),\n",
    "                  (rfc, 'Random Forest')]:\n",
    "    \n",
    "#     Already trained\n",
    "    clf.fit(X_train, y_train)\n",
    "\n",
    "    if hasattr(clf, \"predict_proba\"):\n",
    "        prob_pos = clf.predict_proba(X_test)[:, 1]\n",
    "    else:  # use decision function\n",
    "        prob_pos = clf.decision_function(X_test)\n",
    "        prob_pos = \\\n",
    "            (prob_pos - prob_pos.min()) / (prob_pos.max() - prob_pos.min())\n",
    "        \n",
    "    fraction_of_positives, mean_predicted_value = \\\n",
    "        calibration_curve(y_test, prob_pos, n_bins=10)\n",
    "\n",
    "    ax1.plot(mean_predicted_value, fraction_of_positives, \"s-\",\n",
    "             label=\"%s\" % (name, ))\n",
    "\n",
    "    ax2.hist(prob_pos, range=(0, 1), bins=10, label=name,\n",
    "             histtype=\"step\", lw=2)\n",
    "\n",
    "ax1.set_ylabel(\"Fraction of positives\")\n",
    "ax1.set_ylim([-0.05, 1.05])\n",
    "ax1.legend(loc=\"upper left\")\n",
    "ax1.set_title('Calibration plots  (reliability curve)')\n",
    "\n",
    "ax2.set_xlabel(\"Mean predicted value\")\n",
    "ax2.set_ylabel(\"Count\")\n",
    "ax2.legend(loc=\"upper center\", ncol=2)\n",
    "\n",
    "plt.tight_layout()\n",
    "plt.show()"
   ]
  },
  {
   "cell_type": "code",
   "execution_count": null,
   "metadata": {},
   "outputs": [],
   "source": [
    "count = 0\n",
    "for val in GNB_probs[:,1]:\n",
    "    if val >= 0.9:\n",
    "        count += 1\n",
    "        print(val)\n",
    "\n",
    "print(f\"# of val above 0.9 = {count}\")\n",
    "print(f\"% of val above 0.9 = {count/len(GNB_probs[:,1])}\")"
   ]
  },
  {
   "cell_type": "code",
   "execution_count": null,
   "metadata": {},
   "outputs": [],
   "source": [
    "# fig, ax = plt.subplots()\n",
    "\n",
    "# x_val=len(GNB_probs)\n",
    "\n",
    "# ax.bar(x_val, GNB_probs[:,0])\n",
    "\n",
    "\n",
    "# ax.set_ylabel('Probability')\n",
    "# ax.set_title('Probability of x_i being in class 0')\n",
    "# plt.show()"
   ]
  },
  {
   "cell_type": "code",
   "execution_count": null,
   "metadata": {},
   "outputs": [],
   "source": [
    "count = 0\n",
    "for val in GNB_probs[:,0]:\n",
    "    if 0.8 > val > 0.2:\n",
    "        count += 1\n",
    "        print(val)\n",
    "\n",
    "print(f\"# of val around 0.5 = {count}\")"
   ]
  },
  {
   "cell_type": "code",
   "execution_count": null,
   "metadata": {},
   "outputs": [],
   "source": [
    "from sklearn.metrics import precision_score, recall_score, f1_score\n",
    "from sklearn.metrics import precision_recall_curve"
   ]
  },
  {
   "cell_type": "code",
   "execution_count": null,
   "metadata": {},
   "outputs": [],
   "source": [
    " GNB.predict(X_test)"
   ]
  },
  {
   "cell_type": "code",
   "execution_count": null,
   "metadata": {},
   "outputs": [],
   "source": [
    "GNB_predicted = GNB.predict(X_test)\n",
    "GNB_precision = precision_score(y_test, GNB_predicted)\n",
    "GNB_recall = recall_score(y_test, GNB_predicted)\n",
    "GNB_f1 = f1_score(y_test, GNB_predicted)\n",
    "\n",
    "print(f'Precision Score: {GNB_precision}')\n",
    "print(f'Recall Score: {GNB_recall}')\n",
    "print(f'F1 Score: {GNB_f1}')"
   ]
  },
  {
   "cell_type": "markdown",
   "metadata": {},
   "source": [
    "### Classifier 2: Logistic Regression"
   ]
  },
  {
   "cell_type": "code",
   "execution_count": 48,
   "metadata": {},
   "outputs": [],
   "source": [
    "from sklearn.linear_model import LogisticRegression"
   ]
  },
  {
   "cell_type": "code",
   "execution_count": 49,
   "metadata": {},
   "outputs": [],
   "source": [
    "# %%time\n",
    "# from sklearn.model_selection import cross_val_score\n",
    "\n",
    "# clf_log_cvs = cross_val_score(clf_log, X, y, \n",
    "#                               cv=10, \n",
    "#                               n_jobs=-1,)\n",
    "\n",
    "# print(f\"GaussianNB 10-CV score: {clf_log_cvs}\")\n",
    "# print(f\"GaussianNB 10-fold Cross Val Avg: {np.mean(clf_log_cvs)}\")"
   ]
  },
  {
   "cell_type": "code",
   "execution_count": 50,
   "metadata": {},
   "outputs": [
    {
     "name": "stderr",
     "output_type": "stream",
     "text": [
      "[Parallel(n_jobs=-1)]: Using backend LokyBackend with 32 concurrent workers.\n"
     ]
    },
    {
     "name": "stdout",
     "output_type": "stream",
     "text": [
      "Accuracy Score:  0.7732512590934527\n",
      "Predicted Array: [0 0 0 ... 0 0 0]\n",
      "Precision Score: 0.07713021734949028\n",
      "Recall Score: 0.6002994011976048\n",
      "F1 Score: 0.13669677859212545\n",
      "Wall time: 518 ms\n"
     ]
    },
    {
     "name": "stderr",
     "output_type": "stream",
     "text": [
      "[Parallel(n_jobs=-1)]: Done   1 out of   1 | elapsed:    0.3s finished\n"
     ]
    }
   ],
   "source": [
    "%%time\n",
    "clf_log = LogisticRegression(random_state=42,\n",
    "                            verbose=2,\n",
    "                            n_jobs=-1,)\n",
    "clf_log.fit(X_train,y_train)\n",
    "\n",
    "print(f'Accuracy Score:  {clf_log.score(X_test,y_test)}')\n",
    "\n",
    "clf_log_predicted = clf_log.predict(X_test)\n",
    "clf_log_precision = precision_score(y_test, clf_log_predicted)\n",
    "clf_log_recall = recall_score(y_test, clf_log_predicted)\n",
    "clf_log_f1 = f1_score(y_test, clf_log_predicted)\n",
    "\n",
    "print(f'Predicted Array: {clf_log_predicted}')\n",
    "print(f'Precision Score: {clf_log_precision}')\n",
    "print(f'Recall Score: {clf_log_recall}')\n",
    "print(f'F1 Score: {clf_log_f1}')"
   ]
  },
  {
   "cell_type": "code",
   "execution_count": 51,
   "metadata": {},
   "outputs": [
    {
     "name": "stderr",
     "output_type": "stream",
     "text": [
      "[Parallel(n_jobs=-1)]: Using backend LokyBackend with 32 concurrent workers.\n"
     ]
    },
    {
     "name": "stdout",
     "output_type": "stream",
     "text": [
      "Accuracy Score:  0.4696\n",
      "Precision Score: 0.325\n",
      "Recall Score:    0.1703056768558952\n",
      "F1 Score:        0.22349570200573068\n",
      "Wall time: 301 ms\n"
     ]
    },
    {
     "name": "stderr",
     "output_type": "stream",
     "text": [
      "[Parallel(n_jobs=-1)]: Done   1 out of   1 | elapsed:    0.2s finished\n"
     ]
    }
   ],
   "source": [
    "%%time\n",
    "clf_log = LogisticRegression(random_state=42,\n",
    "                            verbose=2,\n",
    "                            n_jobs=-1,)\n",
    "clf_log.fit(X_train_10k,y_train_10k)\n",
    "\n",
    "clf_log_predicted = GNB.predict(X_test_10k)\n",
    "clf_log_precision = precision_score(y_test_10k, clf_log_predicted)\n",
    "clf_log_recall = recall_score(y_test_10k, clf_log_predicted)\n",
    "clf_log_f1 = f1_score(y_test_10k, clf_log_predicted)\n",
    "\n",
    "print(f'Accuracy Score:  {clf_log.score(X_test_10k, y_test_10k)}')\n",
    "print(f'Precision Score: {clf_log_precision}')\n",
    "print(f'Recall Score:    {clf_log_recall}')\n",
    "print(f'F1 Score:        {clf_log_f1}')"
   ]
  },
  {
   "cell_type": "code",
   "execution_count": 52,
   "metadata": {},
   "outputs": [
    {
     "name": "stderr",
     "output_type": "stream",
     "text": [
      "[Parallel(n_jobs=-1)]: Using backend LokyBackend with 32 concurrent workers.\n"
     ]
    },
    {
     "name": "stdout",
     "output_type": "stream",
     "text": [
      "Accuracy Score:  0.34696\n",
      "Precision Score: 0.3166144200626959\n",
      "Recall Score:    0.17688266199649738\n",
      "F1 Score:        0.22696629213483147\n",
      "Wall time: 318 ms\n"
     ]
    },
    {
     "name": "stderr",
     "output_type": "stream",
     "text": [
      "[Parallel(n_jobs=-1)]: Done   1 out of   1 | elapsed:    0.2s finished\n"
     ]
    }
   ],
   "source": [
    "%%time\n",
    "clf_log = LogisticRegression(random_state=42,\n",
    "                            verbose=2,\n",
    "                            n_jobs=-1,)\n",
    "clf_log.fit(X_train_50k,y_train_50k)\n",
    "\n",
    "clf_log_predicted = GNB.predict(X_test_50k)\n",
    "clf_log_precision = precision_score(y_test_50k, clf_log_predicted)\n",
    "clf_log_recall = recall_score(y_test_50k, clf_log_predicted)\n",
    "clf_log_f1 = f1_score(y_test_50k, clf_log_predicted)\n",
    "\n",
    "print(f'Accuracy Score:  {clf_log.score(X_test_50k, y_test_50k)}')\n",
    "print(f'Precision Score: {clf_log_precision}')\n",
    "print(f'Recall Score:    {clf_log_recall}')\n",
    "print(f'F1 Score:        {clf_log_f1}')"
   ]
  },
  {
   "cell_type": "code",
   "execution_count": 53,
   "metadata": {},
   "outputs": [
    {
     "name": "stderr",
     "output_type": "stream",
     "text": [
      "[Parallel(n_jobs=-1)]: Using backend LokyBackend with 32 concurrent workers.\n"
     ]
    },
    {
     "name": "stdout",
     "output_type": "stream",
     "text": [
      "Accuracy Score:  0.72604\n",
      "Precision Score: 0.34415584415584416\n",
      "Recall Score:    0.15542521994134897\n",
      "F1 Score:        0.21414141414141413\n",
      "Wall time: 348 ms\n"
     ]
    },
    {
     "name": "stderr",
     "output_type": "stream",
     "text": [
      "[Parallel(n_jobs=-1)]: Done   1 out of   1 | elapsed:    0.2s finished\n"
     ]
    }
   ],
   "source": [
    "%%time\n",
    "clf_log = LogisticRegression(random_state=42,\n",
    "                            verbose=2,\n",
    "                            n_jobs=-1,)\n",
    "clf_log.fit(X_train_100k,y_train_100k)\n",
    "\n",
    "clf_log_predicted = GNB.predict(X_test_100k)\n",
    "clf_log_precision = precision_score(y_test_100k, clf_log_predicted)\n",
    "clf_log_recall = recall_score(y_test_100k, clf_log_predicted)\n",
    "clf_log_f1 = f1_score(y_test_100k, clf_log_predicted)\n",
    "\n",
    "print(f'Accuracy Score:  {clf_log.score(X_test_100k, y_test_100k)}')\n",
    "print(f'Precision Score: {clf_log_precision}')\n",
    "print(f'Recall Score:    {clf_log_recall}')\n",
    "print(f'F1 Score:        {clf_log_f1}')"
   ]
  },
  {
   "cell_type": "code",
   "execution_count": null,
   "metadata": {},
   "outputs": [],
   "source": [
    "log_probs = clf_log.predict_proba(X_test)"
   ]
  },
  {
   "cell_type": "code",
   "execution_count": null,
   "metadata": {},
   "outputs": [],
   "source": [
    "print(f\"min of left col = {min(log_probs[:,0])}, max of right col = {max(log_probs[:,1])}\")\n",
    "print(f\"max of left col = {max(log_probs[:,0])}, min of right col = {min(log_probs[:,1])}\")"
   ]
  },
  {
   "cell_type": "code",
   "execution_count": null,
   "metadata": {},
   "outputs": [],
   "source": [
    "fig, ax = plt.subplots()\n",
    "plt.scatter(log_probs[:,0], log_probs[:,1], alpha=0.5)\n",
    "\n",
    "plt.title('Probability of predicting Class 0 vs Class 0')\n",
    "ax.set_xlabel('Probabilty of predicting Class 0')\n",
    "ax.set_ylabel('Probabilty of predicting Class 1')\n",
    "\n",
    "plt.show()"
   ]
  },
  {
   "cell_type": "code",
   "execution_count": null,
   "metadata": {},
   "outputs": [],
   "source": [
    "count = 0\n",
    "for val in log_probs[:,0]:\n",
    "    if 0.8 > val > 0.2:\n",
    "        count += 1\n",
    "        print(val)\n",
    "\n",
    "print(f\"# of val around 0.5 = {count}\")"
   ]
  },
  {
   "cell_type": "code",
   "execution_count": null,
   "metadata": {},
   "outputs": [],
   "source": [
    "count = 0\n",
    "for val in log_probs[:,1]:\n",
    "    if val >= 0.9:\n",
    "        count += 1\n",
    "        print(val)\n",
    "\n",
    "print(f\"# of val above 0.9 = {count}\")\n",
    "print(f\"% of val above 0.9 = {count/len(log_probs[:,1])}\")"
   ]
  },
  {
   "cell_type": "markdown",
   "metadata": {},
   "source": [
    "### Classifier 3: Support Vector Machine (SVC)"
   ]
  },
  {
   "cell_type": "code",
   "execution_count": 60,
   "metadata": {},
   "outputs": [],
   "source": [
    "from sklearn.svm import SVC, LinearSVC"
   ]
  },
  {
   "cell_type": "code",
   "execution_count": 61,
   "metadata": {},
   "outputs": [],
   "source": [
    "# %%time\n",
    "# clf_svm_rbf_cvs = cross_val_score(clf_svm_rbf, X, y, \n",
    "#                               cv=10, \n",
    "#                               n_jobs=-1,)\n",
    "\n",
    "# print(f\"GaussianNB 10-CV score: {clf_svm_rbf_cvs}\")\n",
    "# print(f\"GaussianNB 10-fold Cross Val Avg: {np.mean(clf_svm_rbf_cvs)}\")"
   ]
  },
  {
   "cell_type": "code",
   "execution_count": 62,
   "metadata": {},
   "outputs": [
    {
     "name": "stdout",
     "output_type": "stream",
     "text": [
      "[LibSVM]Accuracy Score:  0.9701622831561276\n",
      "Precision Score: 0.5714285714285714\n",
      "Recall Score: 0.008982035928143712\n",
      "F1 Score: 0.01768607221812822\n",
      "Wall time: 2min 40s\n"
     ]
    }
   ],
   "source": [
    "%%time\n",
    "clf_svm_rbf = SVC(probability=True,\n",
    "                  kernel='rbf',\n",
    "                  verbose=2,\n",
    "                  random_state=42,)\n",
    "\n",
    "clf_svm_rbf.fit(X_train,y_train)\n",
    "\n",
    "clf_svm_rbf_predicted = clf_svm_rbf.predict(X_test)\n",
    "clf_svm_rbf_precision = precision_score(y_test, clf_svm_rbf_predicted)\n",
    "clf_svm_rbf_recall = recall_score(y_test, clf_svm_rbf_predicted)\n",
    "clf_svm_rbf_f1 = f1_score(y_test, clf_svm_rbf_predicted)\n",
    "\n",
    "print(f'Accuracy Score:  {clf_svm_rbf.score(X_test,y_test)}')\n",
    "print(f'Precision Score: {clf_svm_rbf_precision}')\n",
    "print(f'Recall Score: {clf_svm_rbf_recall}')\n",
    "print(f'F1 Score: {clf_svm_rbf_f1}')"
   ]
  },
  {
   "cell_type": "code",
   "execution_count": 63,
   "metadata": {},
   "outputs": [
    {
     "name": "stdout",
     "output_type": "stream",
     "text": [
      "[LibSVM]Accuracy Score:  0.9084\n",
      "Precision Score: 0.5\n",
      "Recall Score: 0.043668122270742356\n",
      "F1 Score: 0.08032128514056225\n",
      "Wall time: 1.74 s\n"
     ]
    }
   ],
   "source": [
    "%%time\n",
    "clf_svm_rbf = SVC(probability=True,\n",
    "                  kernel='rbf',\n",
    "                  verbose=2,\n",
    "                  random_state=42,)\n",
    "\n",
    "clf_svm_rbf.fit(X_train_10k, y_train_10k)\n",
    "\n",
    "clf_svm_rbf_predicted = clf_svm_rbf.predict(X_test_10k)\n",
    "clf_svm_rbf_precision = precision_score(y_test_10k, clf_svm_rbf_predicted)\n",
    "clf_svm_rbf_recall = recall_score(y_test_10k, clf_svm_rbf_predicted)\n",
    "clf_svm_rbf_f1 = f1_score(y_test_10k, clf_svm_rbf_predicted)\n",
    "\n",
    "print(f'Accuracy Score:  {clf_svm_rbf.score(X_test_10k, y_test_10k)}')\n",
    "print(f'Precision Score: {clf_svm_rbf_precision}')\n",
    "print(f'Recall Score: {clf_svm_rbf_recall}')\n",
    "print(f'F1 Score: {clf_svm_rbf_f1}')"
   ]
  },
  {
   "cell_type": "code",
   "execution_count": 64,
   "metadata": {},
   "outputs": [
    {
     "name": "stdout",
     "output_type": "stream",
     "text": [
      "[LibSVM]Accuracy Score:  0.95464\n",
      "Precision Score: 0.5714285714285714\n",
      "Recall Score: 0.028021015761821366\n",
      "F1 Score: 0.05342237061769616\n",
      "Wall time: 12.5 s\n"
     ]
    }
   ],
   "source": [
    "%%time\n",
    "clf_svm_rbf = SVC(probability=True,\n",
    "                  kernel='rbf',\n",
    "                  verbose=2,\n",
    "                  random_state=42,)\n",
    "\n",
    "clf_svm_rbf.fit(X_train_50k, y_train_50k)\n",
    "\n",
    "clf_svm_rbf_predicted = clf_svm_rbf.predict(X_test_50k)\n",
    "clf_svm_rbf_precision = precision_score(y_test_50k, clf_svm_rbf_predicted)\n",
    "clf_svm_rbf_recall = recall_score(y_test_50k, clf_svm_rbf_predicted)\n",
    "clf_svm_rbf_f1 = f1_score(y_test_50k, clf_svm_rbf_predicted)\n",
    "\n",
    "print(f'Accuracy Score:  {clf_svm_rbf.score(X_test_50k, y_test_50k)}')\n",
    "print(f'Precision Score: {clf_svm_rbf_precision}')\n",
    "print(f'Recall Score: {clf_svm_rbf_recall}')\n",
    "print(f'F1 Score: {clf_svm_rbf_f1}')"
   ]
  },
  {
   "cell_type": "code",
   "execution_count": 65,
   "metadata": {},
   "outputs": [
    {
     "name": "stdout",
     "output_type": "stream",
     "text": [
      "[LibSVM]Accuracy Score:  0.9594\n",
      "Precision Score: 0.5625\n",
      "Recall Score: 0.03519061583577713\n",
      "F1 Score: 0.06623735050597977\n",
      "Wall time: 48.9 s\n"
     ]
    }
   ],
   "source": [
    "%%time\n",
    "clf_svm_rbf = SVC(probability=True,\n",
    "                  kernel='rbf',\n",
    "                  verbose=2,\n",
    "                  random_state=42,)\n",
    "\n",
    "clf_svm_rbf.fit(X_train_100k, y_train_100k)\n",
    "\n",
    "clf_svm_rbf_predicted = clf_svm_rbf.predict(X_test_100k)\n",
    "clf_svm_rbf_precision = precision_score(y_test_100k, clf_svm_rbf_predicted)\n",
    "clf_svm_rbf_recall = recall_score(y_test_100k, clf_svm_rbf_predicted)\n",
    "clf_svm_rbf_f1 = f1_score(y_test_100k, clf_svm_rbf_predicted)\n",
    "\n",
    "print(f'Accuracy Score:  {clf_svm_rbf.score(X_test_100k, y_test_100k)}')\n",
    "print(f'Precision Score: {clf_svm_rbf_precision}')\n",
    "print(f'Recall Score: {clf_svm_rbf_recall}')\n",
    "print(f'F1 Score: {clf_svm_rbf_f1}')"
   ]
  },
  {
   "cell_type": "code",
   "execution_count": null,
   "metadata": {},
   "outputs": [],
   "source": [
    "svm_rbf_probs = GNB.predict_proba(X_test)"
   ]
  },
  {
   "cell_type": "code",
   "execution_count": null,
   "metadata": {},
   "outputs": [],
   "source": [
    "print(f\"min of left col = {min(svm_rbf_probs[:,0])}, max of right col = {max(svm_rbf_probs[:,1])}\")\n",
    "print(f\"max of left col = {max(svm_rbf_probs[:,0])}, min of right col = {min(svm_rbf_probs[:,1])}\")"
   ]
  },
  {
   "cell_type": "code",
   "execution_count": null,
   "metadata": {},
   "outputs": [],
   "source": [
    "fig, ax = plt.subplots()\n",
    "plt.scatter(svm_rbf_probs[:,0], svm_rbf_probs[:,1], alpha=0.5)\n",
    "\n",
    "plt.title('Probability of predicting Class 0 vs Class 0')\n",
    "ax.set_xlabel('Probabilty of predicting Class 0')\n",
    "ax.set_ylabel('Probabilty of predicting Class 1')\n",
    "\n",
    "plt.show()"
   ]
  },
  {
   "cell_type": "code",
   "execution_count": null,
   "metadata": {},
   "outputs": [],
   "source": [
    "count = 0\n",
    "for val in svm_rbf_probs[:,0]:\n",
    "    if 0.8 > val > 0.2:\n",
    "        count += 1\n",
    "        print(val)\n",
    "\n",
    "print(f\"# of val around 0.5 = {count}\")\n",
    "print(f\"% of val around 0.5 = {count/len(svm_rbf_probs[:,1])}\")"
   ]
  },
  {
   "cell_type": "code",
   "execution_count": null,
   "metadata": {},
   "outputs": [],
   "source": [
    "count = 0\n",
    "for val in svm_rbf_probs[:,1]:\n",
    "    if val >= 0.9:\n",
    "        count += 1\n",
    "        print(val)\n",
    "\n",
    "print(f\"# of val above 0.9 = {count}\")\n",
    "print(f\"% of val above 0.9 = {count/len(svm_rbf_probs[:,1])}\")"
   ]
  },
  {
   "cell_type": "markdown",
   "metadata": {},
   "source": [
    "### LinearSVC"
   ]
  },
  {
   "cell_type": "code",
   "execution_count": null,
   "metadata": {},
   "outputs": [],
   "source": [
    "%%time\n",
    "from sklearn.svm import LinearSVC\n",
    "\n",
    "clf_svm_lin = LinearSVC(\n",
    "#                         probability=True,\n",
    "                         verbose=2,\n",
    "                         random_state=42,)\n",
    "\n",
    "clf_svm_lin.fit(X_train,y_train)"
   ]
  },
  {
   "cell_type": "code",
   "execution_count": null,
   "metadata": {},
   "outputs": [],
   "source": [
    "%%time\n",
    "clf_svm_lin.score(X_test,y_test)"
   ]
  },
  {
   "cell_type": "markdown",
   "metadata": {},
   "source": [
    "%%time\n",
    "from sklearn.model_selection import cross_val_score\n",
    "\n",
    "clf_svm_lin_cvs = cross_val_score(clf_svm_lin, X, y, \n",
    "                              cv=10, \n",
    "                              n_jobs=-1,)\n",
    "\n",
    "print(f\"GaussianNB 10-CV score: {clf_svm_lin_cvs}\")\n",
    "print(f\"GaussianNB 10-fold Cross Val Avg: {np.mean(clf_svm_lin_cvs)}\")"
   ]
  },
  {
   "cell_type": "code",
   "execution_count": null,
   "metadata": {},
   "outputs": [],
   "source": [
    "svm_lin_probs = GNB.predict_proba(X_test)"
   ]
  },
  {
   "cell_type": "code",
   "execution_count": null,
   "metadata": {},
   "outputs": [],
   "source": [
    "print(f\"min of left col = {min(svm_lin_probs[:,0])}, max of right col = {max(svm_lin_probs[:,1])}\")\n",
    "print(f\"max of left col = {max(svm_lin_probs[:,0])}, min of right col = {min(svm_lin_probs[:,1])}\")"
   ]
  },
  {
   "cell_type": "code",
   "execution_count": null,
   "metadata": {},
   "outputs": [],
   "source": [
    "fig, ax = plt.subplots()\n",
    "plt.scatter(svm_lin_probs[:,0], svm_lin_probs[:,1], alpha=0.5)\n",
    "\n",
    "plt.title('Probability of predicting Class 0 vs Class 0')\n",
    "ax.set_xlabel('Probabilty of predicting Class 0')\n",
    "ax.set_ylabel('Probabilty of predicting Class 1')\n",
    "\n",
    "plt.show()"
   ]
  },
  {
   "cell_type": "code",
   "execution_count": null,
   "metadata": {},
   "outputs": [],
   "source": [
    "count = 0\n",
    "for val in svm_lin_probs[:,0]:\n",
    "    if 0.8 > val > 0.2:\n",
    "        count += 1\n",
    "        print(val)\n",
    "\n",
    "print(f\"# of val around 0.5 = {count}\")\n",
    "print(f\"% of val around 0.5 = {count/len(svm_lin_probs[:,1])}\")"
   ]
  },
  {
   "cell_type": "code",
   "execution_count": null,
   "metadata": {},
   "outputs": [],
   "source": [
    "count = 0\n",
    "for val in svm_lin_probs[:,1]:\n",
    "    if val >= 0.9:\n",
    "        count += 1\n",
    "        print(val)\n",
    "\n",
    "print(f\"# of val above 0.9 = {count}\")\n",
    "print(f\"% of val above 0.9 = {count/len(svm_lin_probs[:,1])}\")"
   ]
  },
  {
   "cell_type": "markdown",
   "metadata": {},
   "source": [
    "### Classifier 4: Random Forest"
   ]
  },
  {
   "cell_type": "code",
   "execution_count": 54,
   "metadata": {},
   "outputs": [],
   "source": [
    "from sklearn.ensemble import RandomForestClassifier"
   ]
  },
  {
   "cell_type": "code",
   "execution_count": 56,
   "metadata": {},
   "outputs": [
    {
     "name": "stdout",
     "output_type": "stream",
     "text": [
      "Accuracy Score:  0.9472859541130386\n",
      "Precision Score: 0.09402390438247012\n",
      "Recall Score: 0.08832335329341318\n",
      "F1 Score: 0.0910845233500579\n",
      "Wall time: 1.82 s\n"
     ]
    }
   ],
   "source": [
    "%%time\n",
    "clf_rdf = RandomForestClassifier(n_jobs=-1,\n",
    "                       random_state=42,\n",
    "#                        verbose=2,\n",
    "                                )\n",
    "\n",
    "clf_rdf.fit(X_train,y_train)\n",
    "\n",
    "clf_rdf_predicted = clf_rdf.predict(X_test)\n",
    "clf_rdf_precision = precision_score(y_test, clf_rdf_predicted)\n",
    "clf_rdf_recall = recall_score(y_test, clf_rdf_predicted)\n",
    "clf_rdf_f1 = f1_score(y_test, clf_rdf_predicted)\n",
    "\n",
    "print(f'Accuracy Score:  {clf_rdf.score(X_test,y_test)}')\n",
    "print(f'Precision Score: {clf_rdf_precision}')\n",
    "print(f'Recall Score: {clf_rdf_recall}')\n",
    "print(f'F1 Score: {clf_rdf_f1}')"
   ]
  },
  {
   "cell_type": "code",
   "execution_count": 57,
   "metadata": {},
   "outputs": [
    {
     "name": "stdout",
     "output_type": "stream",
     "text": [
      "Accuracy Score:  0.8468\n",
      "Precision Score: 0.16228070175438597\n",
      "Recall Score: 0.1615720524017467\n",
      "F1 Score: 0.16192560175054704\n",
      "Wall time: 355 ms\n"
     ]
    }
   ],
   "source": [
    "%%time\n",
    "clf_rdf = RandomForestClassifier(n_jobs=-1,\n",
    "                       random_state=42,\n",
    "#                        verbose=2,\n",
    "                                )\n",
    "clf_rdf.fit(X_train_10k,y_train_10k)\n",
    "\n",
    "clf_rdf_predicted = clf_rdf.predict(X_test_10k)\n",
    "clf_rdf_precision = precision_score(y_test_10k, clf_rdf_predicted)\n",
    "clf_rdf_recall = recall_score(y_test_10k, clf_rdf_predicted)\n",
    "clf_rdf_f1 = f1_score(y_test_10k, clf_rdf_predicted)\n",
    "\n",
    "print(f'Accuracy Score:  {clf_rdf.score(X_test_10k, y_test_10k)}')\n",
    "print(f'Precision Score: {clf_rdf_precision}')\n",
    "print(f'Recall Score: {clf_rdf_recall}')\n",
    "print(f'F1 Score: {clf_rdf_f1}')"
   ]
  },
  {
   "cell_type": "code",
   "execution_count": 58,
   "metadata": {},
   "outputs": [
    {
     "name": "stdout",
     "output_type": "stream",
     "text": [
      "Accuracy Score:  0.92272\n",
      "Precision Score: 0.1635434412265758\n",
      "Recall Score: 0.1681260945709282\n",
      "F1 Score: 0.16580310880829013\n",
      "Wall time: 588 ms\n"
     ]
    }
   ],
   "source": [
    "%%time\n",
    "clf_rdf = RandomForestClassifier(n_jobs=-1,\n",
    "                       random_state=42,\n",
    "#                        verbose=2,\n",
    "                                )\n",
    "clf_rdf.fit(X_train_50k,y_train_50k)\n",
    "\n",
    "clf_rdf_predicted = clf_rdf.predict(X_test_50k)\n",
    "clf_rdf_precision = precision_score(y_test_50k, clf_rdf_predicted)\n",
    "clf_rdf_recall = recall_score(y_test_50k, clf_rdf_predicted)\n",
    "clf_rdf_f1 = f1_score(y_test_50k, clf_rdf_predicted)\n",
    "\n",
    "print(f'Accuracy Score:  {clf_rdf.score(X_test_50k, y_test_50k)}')\n",
    "print(f'Precision Score: {clf_rdf_precision}')\n",
    "print(f'Recall Score: {clf_rdf_recall}')\n",
    "print(f'F1 Score: {clf_rdf_f1}')"
   ]
  },
  {
   "cell_type": "code",
   "execution_count": 59,
   "metadata": {},
   "outputs": [
    {
     "name": "stdout",
     "output_type": "stream",
     "text": [
      "Accuracy Score:  0.92924\n",
      "Precision Score: 0.13715953307392997\n",
      "Recall Score: 0.1378299120234604\n",
      "F1 Score: 0.13749390541199416\n",
      "Wall time: 1.04 s\n"
     ]
    }
   ],
   "source": [
    "%%time\n",
    "clf_rdf = RandomForestClassifier(n_jobs=-1,\n",
    "                       random_state=42,\n",
    "#                        verbose=2,\n",
    "                                )\n",
    "clf_rdf.fit(X_train_100k,y_train_100k)\n",
    "\n",
    "clf_rdf_predicted = clf_rdf.predict(X_test_100k)\n",
    "clf_rdf_precision = precision_score(y_test_100k, clf_rdf_predicted)\n",
    "clf_rdf_recall = recall_score(y_test_100k, clf_rdf_predicted)\n",
    "clf_rdf_f1 = f1_score(y_test_100k, clf_rdf_predicted)\n",
    "\n",
    "print(f'Accuracy Score:  {clf_rdf.score(X_test_100k, y_test_100k)}')\n",
    "print(f'Precision Score: {clf_rdf_precision}')\n",
    "print(f'Recall Score: {clf_rdf_recall}')\n",
    "print(f'F1 Score: {clf_rdf_f1}')"
   ]
  },
  {
   "cell_type": "code",
   "execution_count": null,
   "metadata": {},
   "outputs": [],
   "source": [
    "rdf_probs = GNB.predict_proba(X_test)"
   ]
  },
  {
   "cell_type": "code",
   "execution_count": null,
   "metadata": {},
   "outputs": [],
   "source": [
    "print(f\"min of left col = {min(rdf_probs[:,0])}, max of right col = {max(rdf_probs[:,1])}\")\n",
    "print(f\"max of left col = {max(rdf_probs[:,0])}, min of right col = {min(rdf_probs[:,1])}\")"
   ]
  },
  {
   "cell_type": "code",
   "execution_count": null,
   "metadata": {},
   "outputs": [],
   "source": [
    "fig, ax = plt.subplots()\n",
    "plt.scatter(rdf_probs[:,0], rdf_probs[:,1], alpha=0.5)\n",
    "\n",
    "plt.title('Probability of predicting Class 0 vs Class 0')\n",
    "ax.set_xlabel('Probabilty of predicting Class 0')\n",
    "ax.set_ylabel('Probabilty of predicting Class 1')\n",
    "\n",
    "plt.show()"
   ]
  },
  {
   "cell_type": "code",
   "execution_count": null,
   "metadata": {},
   "outputs": [],
   "source": [
    "count = 0\n",
    "for val in rdf_probs[:,0]:\n",
    "    if 0.8 > val > 0.2:\n",
    "        count += 1\n",
    "        print(val)\n",
    "\n",
    "print(f\"# of val around 0.5 = {count}\")\n",
    "print(f\"% of val around 0.5 = {count/len(rdf_probs[:,1])}\")"
   ]
  },
  {
   "cell_type": "code",
   "execution_count": null,
   "metadata": {},
   "outputs": [],
   "source": [
    "count = 0\n",
    "for val in rdf_probs[:,1]:\n",
    "    if val >= 0.9:\n",
    "        count += 1\n",
    "        print(val)\n",
    "\n",
    "print(f\"# of val above 0.9 = {count}\")\n",
    "print(f\"% of val above 0.9 = {count/len(rdf_probs[:,1])}\")"
   ]
  },
  {
   "cell_type": "markdown",
   "metadata": {},
   "source": [
    "## Reappending the prediction probabilites after Gaussian NB back on X_test, to observe some behavior\n",
    "\n",
    "1. Add predicts back on to new dataframe with X_test\n",
    "2. use clf to parse for feature importance"
   ]
  },
  {
   "cell_type": "code",
   "execution_count": null,
   "metadata": {},
   "outputs": [],
   "source": [
    "X_test_probs = X_test.copy()\n",
    "\n",
    "GNB = GaussianNB()\n",
    "GNB.fit(X_train, y_train)\n",
    "GNB_predicted = GNB.predict(X_test)\n",
    "\n",
    "X_test_probs['prob_0'] = GNB_probs[:,0]\n",
    "X_test_probs['prob_1'] = GNB_probs[:,1]\n",
    "X_test_probs['predict_class'] = GNB.predict(X_test)\n",
    "X_test_probs['label'] = y_test\n",
    "X_test_probs"
   ]
  },
  {
   "cell_type": "code",
   "execution_count": null,
   "metadata": {},
   "outputs": [],
   "source": [
    "plt.figure(figsize=(10, 8), dpi=100)\n",
    "\n",
    "scatter = plt.scatter(X_test_probs['views'], GNB_probs[:,0], \n",
    "                        c=X_test_probs['predict_class'], \n",
    "                        cmap='coolwarm',\n",
    "                        alpha=0.6)\n",
    "plt.title('Views to Probability of Predicting Class 0', fontsize='small')\n",
    "plt.xlabel('Views (in millions)', fontsize='small')\n",
    "plt.ylabel('Probability of Predicitng Class 0', fontsize='small')\n",
    "plt.rcParams.update({'font.size': 22})\n",
    "\n",
    "\n",
    "plt.legend(*scatter.legend_elements(), loc='upper right', title='Predicted Classes')\n",
    "# ax.legend()\n",
    "\n",
    "plt.show()"
   ]
  },
  {
   "cell_type": "code",
   "execution_count": null,
   "metadata": {},
   "outputs": [],
   "source": [
    "xrange = [i for i in range(len(GNB_probs[:,0]))]\n",
    "\n",
    "plt.figure(figsize=(10, 8), dpi=100)\n",
    "\n",
    "scatter = plt.scatter(X_test['comment_count'], GNB_probs[:,0], \n",
    "                        c=X_test_probs['predict_class'], \n",
    "                        cmap='coolwarm',\n",
    "                        alpha=0.6)\n",
    "plt.title('Comment Count to Probability of Predicting Class 0', fontsize='small')\n",
    "plt.xlabel('Comment Count', fontsize='small')\n",
    "plt.ylabel('Probability of Predicitng Class 0', fontsize='small')\n",
    "plt.rcParams.update({'font.size': 22})\n",
    "\n",
    "\n",
    "plt.legend(*scatter.legend_elements(), loc='upper right', title='Classes')\n",
    "# ax.legend()\n",
    "\n",
    "plt.show()"
   ]
  },
  {
   "cell_type": "code",
   "execution_count": null,
   "metadata": {},
   "outputs": [],
   "source": []
  },
  {
   "cell_type": "code",
   "execution_count": null,
   "metadata": {},
   "outputs": [],
   "source": []
  },
  {
   "cell_type": "code",
   "execution_count": null,
   "metadata": {},
   "outputs": [],
   "source": []
  },
  {
   "cell_type": "code",
   "execution_count": null,
   "metadata": {},
   "outputs": [],
   "source": [
    "GNB.feature_log_prob_"
   ]
  },
  {
   "cell_type": "code",
   "execution_count": null,
   "metadata": {},
   "outputs": [],
   "source": [
    "X_test_probs"
   ]
  },
  {
   "cell_type": "code",
   "execution_count": null,
   "metadata": {},
   "outputs": [],
   "source": [
    "# to first affirm that prob_0 and prob_1 were truly labeled as what they were supposed to be\n",
    "\n",
    "count = 0\n",
    "for i, row in X_test_probs.iterrows():\n",
    "    count += 1\n",
    "    if count > 5:\n",
    "        break\n",
    "    print(f'i:{i}, V:{row.views}, L:{row.likes}, D:{row.dislikes}, C:{row.comment_count}')\n",
    "    print(f'i:{i}, Prob_0:{row.prob_0}, Prob_1:{row.prob_1}, Label:{row.label}\\n')"
   ]
  },
  {
   "cell_type": "code",
   "execution_count": null,
   "metadata": {},
   "outputs": [],
   "source": [
    "count = 0\n",
    "for i, row in X_caltest_probs.iterrows():\n",
    "    if 0.65 > row.prob_0 > 0.45:\n",
    "        count += 1\n",
    "        print(f'i:{i}, V:{row.views}, L:{row.likes}, D:{row.dislikes}, C:{row.comment_count}')\n",
    "        print(f'i:{i}, Prob_0:{row.prob_0}, Prob_1:{row.prob_1}, Label:{row.label}\\n')\n",
    "        \n",
    "print(f'\\nCount = {count}')"
   ]
  },
  {
   "cell_type": "code",
   "execution_count": null,
   "metadata": {},
   "outputs": [],
   "source": []
  },
  {
   "cell_type": "code",
   "execution_count": null,
   "metadata": {},
   "outputs": [],
   "source": []
  },
  {
   "cell_type": "markdown",
   "metadata": {},
   "source": [
    "### Other observations"
   ]
  },
  {
   "cell_type": "code",
   "execution_count": null,
   "metadata": {},
   "outputs": [],
   "source": [
    "len(X_test)"
   ]
  },
  {
   "cell_type": "code",
   "execution_count": null,
   "metadata": {},
   "outputs": [],
   "source": [
    "np.array(X_test[19:20])"
   ]
  },
  {
   "cell_type": "code",
   "execution_count": null,
   "metadata": {},
   "outputs": [],
   "source": [
    "y_test[19:20]"
   ]
  },
  {
   "cell_type": "code",
   "execution_count": null,
   "metadata": {},
   "outputs": [],
   "source": [
    "GNB.predict_proba(X_test[:-1])"
   ]
  },
  {
   "cell_type": "code",
   "execution_count": null,
   "metadata": {},
   "outputs": [],
   "source": [
    "GNB.predict(X_test[5::-1])"
   ]
  },
  {
   "cell_type": "code",
   "execution_count": null,
   "metadata": {},
   "outputs": [],
   "source": [
    "# custom \n",
    "print(GNB.predict(np.array([[17158579, 787425, 43420, 125882]])))\n",
    "print(GNB.predict_proba(np.array([[17158579, 787425, 43420, 125882]])))"
   ]
  },
  {
   "cell_type": "code",
   "execution_count": null,
   "metadata": {},
   "outputs": [],
   "source": [
    "# custom \n",
    "arr2 = [4567, 787, 430, 125]\n",
    "print(GNB.predict(np.array([arr2])))\n",
    "print(GNB.predict_proba(np.array([arr2])))"
   ]
  },
  {
   "cell_type": "markdown",
   "metadata": {},
   "source": [
    "### Using only views, comments, and likes to graph 3D"
   ]
  },
  {
   "cell_type": "code",
   "execution_count": null,
   "metadata": {},
   "outputs": [],
   "source": [
    "X3 = X.drop(['dislikes'],axis=1)\n",
    "X3"
   ]
  },
  {
   "cell_type": "code",
   "execution_count": null,
   "metadata": {},
   "outputs": [],
   "source": [
    "X3_train, X3_test, y3_train, y3_test = train_test_split(X3, y, test_size=0.25, random_state=42)"
   ]
  },
  {
   "cell_type": "code",
   "execution_count": null,
   "metadata": {},
   "outputs": [],
   "source": [
    "X3_train"
   ]
  },
  {
   "cell_type": "code",
   "execution_count": null,
   "metadata": {},
   "outputs": [],
   "source": [
    "y3_train"
   ]
  },
  {
   "cell_type": "markdown",
   "metadata": {},
   "source": [
    "### Gaussian Naive Bayes on views, comments, likes, only"
   ]
  },
  {
   "cell_type": "code",
   "execution_count": null,
   "metadata": {},
   "outputs": [],
   "source": [
    "GNB_3 = GaussianNB()\n",
    "GNB_3.fit(X3_train, y3_train)"
   ]
  },
  {
   "cell_type": "code",
   "execution_count": null,
   "metadata": {},
   "outputs": [],
   "source": [
    "GNB_3.score(X3_test, y3_test)"
   ]
  },
  {
   "cell_type": "code",
   "execution_count": null,
   "metadata": {},
   "outputs": [],
   "source": [
    "from sklearn.model_selection import cross_val_score\n",
    "\n",
    "GNB_3_cvs = cross_val_score(GNB_3, X, y, \n",
    "                          cv=10, \n",
    "                          n_jobs=-1,)\n",
    "\n",
    "print(GNB_3_cvs)\n",
    "print(f\"GaussianNB 10-fold Cross Val Avg: {np.mean(GNB_3_cvs)}\")"
   ]
  },
  {
   "cell_type": "markdown",
   "metadata": {},
   "source": [
    "### Bernoulli Naive Bayes on 4 stats, then the 3 stats"
   ]
  },
  {
   "cell_type": "code",
   "execution_count": null,
   "metadata": {},
   "outputs": [],
   "source": [
    "from sklearn.naive_bayes import BernoulliNB\n",
    "\n",
    "BNB = BernoulliNB()\n",
    "BNB.fit(X_train, y_train)"
   ]
  },
  {
   "cell_type": "code",
   "execution_count": null,
   "metadata": {},
   "outputs": [],
   "source": [
    "BNB.score(X_test, y_test)"
   ]
  },
  {
   "cell_type": "code",
   "execution_count": null,
   "metadata": {},
   "outputs": [],
   "source": [
    "BNB_cvs = cross_val_score(BNB, X, y, \n",
    "                          cv=10, \n",
    "                          n_jobs=-1,)\n",
    "\n",
    "print(f\"GaussianNB 10-CV score: {BNB_cvs}\")\n",
    "print(f\"GaussianNB 10-fold Cross Val Avg: {np.mean(BNB_cvs)}\")"
   ]
  },
  {
   "cell_type": "code",
   "execution_count": null,
   "metadata": {},
   "outputs": [],
   "source": [
    "from sklearn.naive_bayes import BernoulliNB\n",
    "\n",
    "BNB = BernoulliNB()\n",
    "BNB.fit(X3_train, y_train)"
   ]
  },
  {
   "cell_type": "code",
   "execution_count": null,
   "metadata": {},
   "outputs": [],
   "source": [
    "BNB.score(X3_test, y_test)"
   ]
  },
  {
   "cell_type": "code",
   "execution_count": null,
   "metadata": {},
   "outputs": [],
   "source": [
    "BNB_cvs = cross_val_score(BNB, X, y, \n",
    "                          cv=10, \n",
    "                          n_jobs=-1,)\n",
    "\n",
    "print(f\"GaussianNB 10-CV score: {BNB_cvs}\")\n",
    "print(f\"GaussianNB 10-fold Cross Val Avg: {np.mean(BNB_cvs)}\")"
   ]
  },
  {
   "cell_type": "markdown",
   "metadata": {},
   "source": [
    "### Random Forest Classifier on 4 stats, looking at feature importance"
   ]
  },
  {
   "cell_type": "code",
   "execution_count": null,
   "metadata": {},
   "outputs": [],
   "source": [
    "%%time \n",
    "from sklearn.ensemble import RandomForestClassifier\n",
    "\n",
    "rf_clf = RandomForestClassifier()\n",
    "rf_clf.fit(X_train,y_train)"
   ]
  },
  {
   "cell_type": "code",
   "execution_count": null,
   "metadata": {},
   "outputs": [],
   "source": [
    "%%time\n",
    "rf_clf.score(X_test,y_test)"
   ]
  },
  {
   "cell_type": "markdown",
   "metadata": {},
   "source": [
    "## Taking a look at feature importance from Random Forest"
   ]
  },
  {
   "cell_type": "code",
   "execution_count": null,
   "metadata": {},
   "outputs": [],
   "source": [
    "# quick investigation into the correlation of features to the label\n",
    "df_nostr.corr()[\"trend_over_5_days\"].sort_values(ascending=False)"
   ]
  },
  {
   "cell_type": "code",
   "execution_count": null,
   "metadata": {},
   "outputs": [],
   "source": [
    "rf_clf.feature_importances_"
   ]
  },
  {
   "cell_type": "code",
   "execution_count": null,
   "metadata": {},
   "outputs": [],
   "source": [
    "plt.barh(X.columns, rf_clf.feature_importances_)"
   ]
  },
  {
   "cell_type": "code",
   "execution_count": null,
   "metadata": {},
   "outputs": [],
   "source": [
    "%%time\n",
    "import shap\n",
    "\n",
    "explainer = shap.TreeExplainer(rf_clf)"
   ]
  },
  {
   "cell_type": "code",
   "execution_count": null,
   "metadata": {},
   "outputs": [],
   "source": [
    "%%time\n",
    "shap_values = explainer.shap_values(X_test)"
   ]
  },
  {
   "cell_type": "code",
   "execution_count": null,
   "metadata": {},
   "outputs": [],
   "source": [
    "shap.summary_plot(shape_values, X_test, plot_type=\"bar\")"
   ]
  },
  {
   "cell_type": "code",
   "execution_count": null,
   "metadata": {},
   "outputs": [],
   "source": [
    "shap.summary_plot(shape_values, X_train)"
   ]
  },
  {
   "cell_type": "code",
   "execution_count": null,
   "metadata": {},
   "outputs": [],
   "source": [
    "# X = np.array([[-1, -1], [-2, -1], [1, 1], [2, 1]])\n",
    "# y = np.array([1, 1, 2, 2])\n",
    "# from sklearn.svm import SVC\n",
    "# clf = SVC(probability=True)\n",
    "# clf.fit(X, y) \n",
    "# print(clf.predict([[-0.8, -1]]))\n",
    "# print(clf.predict_proba([[-0.8, -1]]))"
   ]
  },
  {
   "cell_type": "markdown",
   "metadata": {},
   "source": [
    "### Heat Map remade with Spearman's rank correlation "
   ]
  },
  {
   "cell_type": "code",
   "execution_count": null,
   "metadata": {},
   "outputs": [],
   "source": [
    "import seaborn as sns\n",
    "\n",
    "sns.heatmap(df_nostr.corr(method='spearman'),annot=True,cmap='coolwarm')"
   ]
  },
  {
   "cell_type": "code",
   "execution_count": null,
   "metadata": {},
   "outputs": [],
   "source": [
    "sns.heatmap(df_nostr.corr(method='pearson'),annot=True,cmap='coolwarm_r')"
   ]
  },
  {
   "cell_type": "code",
   "execution_count": null,
   "metadata": {},
   "outputs": [],
   "source": [
    "df_nostr.corr(method='pearson')['trend_over_5_days']"
   ]
  },
  {
   "cell_type": "code",
   "execution_count": null,
   "metadata": {},
   "outputs": [],
   "source": []
  }
 ],
 "metadata": {
  "kernelspec": {
   "display_name": "Python 3",
   "language": "python",
   "name": "python3"
  },
  "language_info": {
   "codemirror_mode": {
    "name": "ipython",
    "version": 3
   },
   "file_extension": ".py",
   "mimetype": "text/x-python",
   "name": "python",
   "nbconvert_exporter": "python",
   "pygments_lexer": "ipython3",
   "version": "3.7.4"
  }
 },
 "nbformat": 4,
 "nbformat_minor": 4
}
