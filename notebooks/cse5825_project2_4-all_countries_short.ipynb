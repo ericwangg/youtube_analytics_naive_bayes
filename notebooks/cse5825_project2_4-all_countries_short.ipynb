{
 "cells": [
  {
   "cell_type": "code",
   "execution_count": 1,
   "metadata": {},
   "outputs": [],
   "source": [
    "import os\n",
    "import pandas as pd\n",
    "import numpy as np\n",
    "import json\n",
    "import matplotlib.pyplot as plt\n",
    "plt.style.use('fivethirtyeight')\n",
    "import seaborn as sns\n",
    "import warnings\n",
    "warnings.filterwarnings('ignore')\n",
    "from tqdm.notebook import tqdm\n",
    "import collections\n",
    "import pickle\n",
    "import gc"
   ]
  },
  {
   "cell_type": "code",
   "execution_count": 2,
   "metadata": {},
   "outputs": [],
   "source": [
    "df_nostr = pd.read_csv('yt_allcountry_trend5days_nostr.csv', index_col=None)"
   ]
  },
  {
   "cell_type": "code",
   "execution_count": 3,
   "metadata": {},
   "outputs": [],
   "source": [
    "X = df_nostr.drop(['trend_over_5_days'],axis=1)\n",
    "y = df_nostr['trend_over_5_days']"
   ]
  },
  {
   "cell_type": "code",
   "execution_count": 4,
   "metadata": {},
   "outputs": [
    {
     "data": {
      "text/html": [
       "<div>\n",
       "<style scoped>\n",
       "    .dataframe tbody tr th:only-of-type {\n",
       "        vertical-align: middle;\n",
       "    }\n",
       "\n",
       "    .dataframe tbody tr th {\n",
       "        vertical-align: top;\n",
       "    }\n",
       "\n",
       "    .dataframe thead th {\n",
       "        text-align: right;\n",
       "    }\n",
       "</style>\n",
       "<table border=\"1\" class=\"dataframe\">\n",
       "  <thead>\n",
       "    <tr style=\"text-align: right;\">\n",
       "      <th></th>\n",
       "      <th>views</th>\n",
       "      <th>likes</th>\n",
       "      <th>dislikes</th>\n",
       "      <th>comment_count</th>\n",
       "    </tr>\n",
       "  </thead>\n",
       "  <tbody>\n",
       "    <tr>\n",
       "      <th>0</th>\n",
       "      <td>17158579</td>\n",
       "      <td>787425</td>\n",
       "      <td>43420</td>\n",
       "      <td>125882</td>\n",
       "    </tr>\n",
       "    <tr>\n",
       "      <th>1</th>\n",
       "      <td>1014651</td>\n",
       "      <td>127794</td>\n",
       "      <td>1688</td>\n",
       "      <td>13030</td>\n",
       "    </tr>\n",
       "    <tr>\n",
       "      <th>2</th>\n",
       "      <td>3191434</td>\n",
       "      <td>146035</td>\n",
       "      <td>5339</td>\n",
       "      <td>8181</td>\n",
       "    </tr>\n",
       "    <tr>\n",
       "      <th>3</th>\n",
       "      <td>2095828</td>\n",
       "      <td>132239</td>\n",
       "      <td>1989</td>\n",
       "      <td>17518</td>\n",
       "    </tr>\n",
       "    <tr>\n",
       "      <th>4</th>\n",
       "      <td>33523622</td>\n",
       "      <td>1634130</td>\n",
       "      <td>21082</td>\n",
       "      <td>85067</td>\n",
       "    </tr>\n",
       "    <tr>\n",
       "      <th>...</th>\n",
       "      <td>...</td>\n",
       "      <td>...</td>\n",
       "      <td>...</td>\n",
       "      <td>...</td>\n",
       "    </tr>\n",
       "    <tr>\n",
       "      <th>178694</th>\n",
       "      <td>279728</td>\n",
       "      <td>19691</td>\n",
       "      <td>135</td>\n",
       "      <td>579</td>\n",
       "    </tr>\n",
       "    <tr>\n",
       "      <th>178695</th>\n",
       "      <td>1549110</td>\n",
       "      <td>21905</td>\n",
       "      <td>1516</td>\n",
       "      <td>1318</td>\n",
       "    </tr>\n",
       "    <tr>\n",
       "      <th>178696</th>\n",
       "      <td>2183462</td>\n",
       "      <td>79677</td>\n",
       "      <td>2034</td>\n",
       "      <td>3464</td>\n",
       "    </tr>\n",
       "    <tr>\n",
       "      <th>178697</th>\n",
       "      <td>607422</td>\n",
       "      <td>26166</td>\n",
       "      <td>895</td>\n",
       "      <td>3517</td>\n",
       "    </tr>\n",
       "    <tr>\n",
       "      <th>178698</th>\n",
       "      <td>296295</td>\n",
       "      <td>8157</td>\n",
       "      <td>294</td>\n",
       "      <td>764</td>\n",
       "    </tr>\n",
       "  </tbody>\n",
       "</table>\n",
       "<p>178699 rows × 4 columns</p>\n",
       "</div>"
      ],
      "text/plain": [
       "           views    likes  dislikes  comment_count\n",
       "0       17158579   787425     43420         125882\n",
       "1        1014651   127794      1688          13030\n",
       "2        3191434   146035      5339           8181\n",
       "3        2095828   132239      1989          17518\n",
       "4       33523622  1634130     21082          85067\n",
       "...          ...      ...       ...            ...\n",
       "178694    279728    19691       135            579\n",
       "178695   1549110    21905      1516           1318\n",
       "178696   2183462    79677      2034           3464\n",
       "178697    607422    26166       895           3517\n",
       "178698    296295     8157       294            764\n",
       "\n",
       "[178699 rows x 4 columns]"
      ]
     },
     "execution_count": 4,
     "metadata": {},
     "output_type": "execute_result"
    }
   ],
   "source": [
    "X"
   ]
  },
  {
   "cell_type": "code",
   "execution_count": 5,
   "metadata": {},
   "outputs": [
    {
     "data": {
      "text/plain": [
       "0         1\n",
       "1         0\n",
       "2         1\n",
       "3         1\n",
       "4         1\n",
       "         ..\n",
       "178694    0\n",
       "178695    0\n",
       "178696    0\n",
       "178697    0\n",
       "178698    0\n",
       "Name: trend_over_5_days, Length: 178699, dtype: int64"
      ]
     },
     "execution_count": 5,
     "metadata": {},
     "output_type": "execute_result"
    }
   ],
   "source": [
    "y"
   ]
  },
  {
   "cell_type": "markdown",
   "metadata": {},
   "source": [
    "### PCA on 4 components?"
   ]
  },
  {
   "cell_type": "code",
   "execution_count": 6,
   "metadata": {},
   "outputs": [
    {
     "data": {
      "text/plain": [
       "PCA(copy=True, iterated_power='auto', n_components=4, random_state=None,\n",
       "    svd_solver='auto', tol=0.0, whiten=False)"
      ]
     },
     "execution_count": 6,
     "metadata": {},
     "output_type": "execute_result"
    }
   ],
   "source": [
    "from sklearn.decomposition import PCA\n",
    "\n",
    "pca = PCA(n_components=4)\n",
    "pca.fit(X)"
   ]
  },
  {
   "cell_type": "code",
   "execution_count": 7,
   "metadata": {},
   "outputs": [
    {
     "data": {
      "image/png": "[encoded data removed]",
      "text/plain": [
       "<Figure size 432x288 with 1 Axes>"
      ]
     },
     "metadata": {},
     "output_type": "display_data"
    },
    {
     "data": {
      "text/plain": [
       "None"
      ]
     },
     "metadata": {},
     "output_type": "display_data"
    },
    {
     "data": {
      "text/html": [
       "<div>\n",
       "<style scoped>\n",
       "    .dataframe tbody tr th:only-of-type {\n",
       "        vertical-align: middle;\n",
       "    }\n",
       "\n",
       "    .dataframe tbody tr th {\n",
       "        vertical-align: top;\n",
       "    }\n",
       "\n",
       "    .dataframe thead th {\n",
       "        text-align: right;\n",
       "    }\n",
       "</style>\n",
       "<table border=\"1\" class=\"dataframe\">\n",
       "  <thead>\n",
       "    <tr style=\"text-align: right;\">\n",
       "      <th></th>\n",
       "      <th>Cumulative Variance Ratio</th>\n",
       "      <th>Explained Variance Ratio</th>\n",
       "    </tr>\n",
       "  </thead>\n",
       "  <tbody>\n",
       "    <tr>\n",
       "      <th>0</th>\n",
       "      <td>0.998518</td>\n",
       "      <td>0.998518</td>\n",
       "    </tr>\n",
       "    <tr>\n",
       "      <th>1</th>\n",
       "      <td>0.999936</td>\n",
       "      <td>0.001419</td>\n",
       "    </tr>\n",
       "    <tr>\n",
       "      <th>2</th>\n",
       "      <td>0.999983</td>\n",
       "      <td>0.000047</td>\n",
       "    </tr>\n",
       "    <tr>\n",
       "      <th>3</th>\n",
       "      <td>1.000000</td>\n",
       "      <td>0.000017</td>\n",
       "    </tr>\n",
       "  </tbody>\n",
       "</table>\n",
       "</div>"
      ],
      "text/plain": [
       "   Cumulative Variance Ratio  Explained Variance Ratio\n",
       "0                   0.998518                  0.998518\n",
       "1                   0.999936                  0.001419\n",
       "2                   0.999983                  0.000047\n",
       "3                   1.000000                  0.000017"
      ]
     },
     "metadata": {},
     "output_type": "display_data"
    }
   ],
   "source": [
    "sns.set(style='whitegrid')\n",
    "plt.plot(np.cumsum(pca.explained_variance_ratio_))\n",
    "plt.xlabel('number of components')\n",
    "plt.ylabel('cumulative explained variance')\n",
    "# plt.axvline(linewidth=4, color='r', linestyle = '--', x=10, ymin=0, ymax=1)\n",
    "plt.axhline(linewidth=4, color='r', linestyle = '--', y=0.95, xmin=0, xmax=1)\n",
    "plt.axhline(linewidth=4, color='g', linestyle = '--', y=0.90, xmin=0, xmax=1)\n",
    "\n",
    "display(plt.show())\n",
    "\n",
    "evr = pca.explained_variance_ratio_\n",
    "cvr = np.cumsum(pca.explained_variance_ratio_)\n",
    "pca_df = pd.DataFrame()\n",
    "pca_df['Cumulative Variance Ratio'] = cvr\n",
    "pca_df['Explained Variance Ratio'] = evr\n",
    "display(pca_df.head(10))"
   ]
  },
  {
   "cell_type": "code",
   "execution_count": 8,
   "metadata": {},
   "outputs": [],
   "source": [
    "from sklearn.model_selection import train_test_split\n",
    "\n",
    "X_train, X_test, y_train, y_test = train_test_split(X, y, test_size=0.25, random_state=42)"
   ]
  },
  {
   "cell_type": "code",
   "execution_count": 9,
   "metadata": {},
   "outputs": [
    {
     "data": {
      "text/html": [
       "<div>\n",
       "<style scoped>\n",
       "    .dataframe tbody tr th:only-of-type {\n",
       "        vertical-align: middle;\n",
       "    }\n",
       "\n",
       "    .dataframe tbody tr th {\n",
       "        vertical-align: top;\n",
       "    }\n",
       "\n",
       "    .dataframe thead th {\n",
       "        text-align: right;\n",
       "    }\n",
       "</style>\n",
       "<table border=\"1\" class=\"dataframe\">\n",
       "  <thead>\n",
       "    <tr style=\"text-align: right;\">\n",
       "      <th></th>\n",
       "      <th>views</th>\n",
       "      <th>likes</th>\n",
       "      <th>dislikes</th>\n",
       "      <th>comment_count</th>\n",
       "    </tr>\n",
       "  </thead>\n",
       "  <tbody>\n",
       "    <tr>\n",
       "      <th>113617</th>\n",
       "      <td>126706</td>\n",
       "      <td>6061</td>\n",
       "      <td>64</td>\n",
       "      <td>4418</td>\n",
       "    </tr>\n",
       "    <tr>\n",
       "      <th>65534</th>\n",
       "      <td>14658</td>\n",
       "      <td>122</td>\n",
       "      <td>21</td>\n",
       "      <td>9</td>\n",
       "    </tr>\n",
       "    <tr>\n",
       "      <th>126111</th>\n",
       "      <td>9568</td>\n",
       "      <td>141</td>\n",
       "      <td>5</td>\n",
       "      <td>10</td>\n",
       "    </tr>\n",
       "    <tr>\n",
       "      <th>8740</th>\n",
       "      <td>32051</td>\n",
       "      <td>3006</td>\n",
       "      <td>40</td>\n",
       "      <td>665</td>\n",
       "    </tr>\n",
       "    <tr>\n",
       "      <th>57496</th>\n",
       "      <td>11716</td>\n",
       "      <td>2018</td>\n",
       "      <td>6</td>\n",
       "      <td>130</td>\n",
       "    </tr>\n",
       "    <tr>\n",
       "      <th>...</th>\n",
       "      <td>...</td>\n",
       "      <td>...</td>\n",
       "      <td>...</td>\n",
       "      <td>...</td>\n",
       "    </tr>\n",
       "    <tr>\n",
       "      <th>119879</th>\n",
       "      <td>7996</td>\n",
       "      <td>38</td>\n",
       "      <td>8</td>\n",
       "      <td>14</td>\n",
       "    </tr>\n",
       "    <tr>\n",
       "      <th>103694</th>\n",
       "      <td>78227</td>\n",
       "      <td>1082</td>\n",
       "      <td>45</td>\n",
       "      <td>356</td>\n",
       "    </tr>\n",
       "    <tr>\n",
       "      <th>131932</th>\n",
       "      <td>98261</td>\n",
       "      <td>501</td>\n",
       "      <td>60</td>\n",
       "      <td>23</td>\n",
       "    </tr>\n",
       "    <tr>\n",
       "      <th>146867</th>\n",
       "      <td>16583</td>\n",
       "      <td>177</td>\n",
       "      <td>14</td>\n",
       "      <td>33</td>\n",
       "    </tr>\n",
       "    <tr>\n",
       "      <th>121958</th>\n",
       "      <td>66259</td>\n",
       "      <td>5897</td>\n",
       "      <td>103</td>\n",
       "      <td>390</td>\n",
       "    </tr>\n",
       "  </tbody>\n",
       "</table>\n",
       "<p>134024 rows × 4 columns</p>\n",
       "</div>"
      ],
      "text/plain": [
       "         views  likes  dislikes  comment_count\n",
       "113617  126706   6061        64           4418\n",
       "65534    14658    122        21              9\n",
       "126111    9568    141         5             10\n",
       "8740     32051   3006        40            665\n",
       "57496    11716   2018         6            130\n",
       "...        ...    ...       ...            ...\n",
       "119879    7996     38         8             14\n",
       "103694   78227   1082        45            356\n",
       "131932   98261    501        60             23\n",
       "146867   16583    177        14             33\n",
       "121958   66259   5897       103            390\n",
       "\n",
       "[134024 rows x 4 columns]"
      ]
     },
     "execution_count": 9,
     "metadata": {},
     "output_type": "execute_result"
    }
   ],
   "source": [
    "X_train"
   ]
  },
  {
   "cell_type": "markdown",
   "metadata": {},
   "source": [
    "### Naive Bayes: Gaussian Naive Bayes"
   ]
  },
  {
   "cell_type": "code",
   "execution_count": 10,
   "metadata": {},
   "outputs": [],
   "source": [
    "from sklearn.naive_bayes import GaussianNB, BernoulliNB, MultinomialNB, CategoricalNB"
   ]
  },
  {
   "cell_type": "code",
   "execution_count": 11,
   "metadata": {},
   "outputs": [
    {
     "data": {
      "text/plain": [
       "GaussianNB(priors=None, var_smoothing=1e-09)"
      ]
     },
     "execution_count": 11,
     "metadata": {},
     "output_type": "execute_result"
    }
   ],
   "source": [
    "GNB = GaussianNB()\n",
    "GNB.fit(X_train, y_train)"
   ]
  },
  {
   "cell_type": "code",
   "execution_count": 12,
   "metadata": {},
   "outputs": [
    {
     "data": {
      "text/plain": [
       "0.9582540570789032"
      ]
     },
     "execution_count": 12,
     "metadata": {},
     "output_type": "execute_result"
    }
   ],
   "source": [
    "GNB.score(X_test, y_test)"
   ]
  },
  {
   "cell_type": "code",
   "execution_count": 13,
   "metadata": {},
   "outputs": [
    {
     "name": "stdout",
     "output_type": "stream",
     "text": [
      "GaussianNB 10-CV score: [0.92126469 0.95422496 0.96552882 0.97437045 0.9616676  0.96614438\n",
      " 0.96205932 0.96149972 0.95148293 0.95327103]\n",
      "GaussianNB 10-fold Cross Val Avg: 0.9571513893174485\n"
     ]
    }
   ],
   "source": [
    "from sklearn.model_selection import cross_val_score\n",
    "\n",
    "GNB_cvs = cross_val_score(GNB, X, y, \n",
    "                          cv=10, \n",
    "                          n_jobs=-1,)\n",
    "\n",
    "print(f\"GaussianNB 10-CV score: {GNB_cvs}\")\n",
    "print(f\"GaussianNB 10-fold Cross Val Avg: {np.mean(GNB_cvs)}\")"
   ]
  },
  {
   "cell_type": "code",
   "execution_count": 14,
   "metadata": {},
   "outputs": [
    {
     "name": "stdout",
     "output_type": "stream",
     "text": [
      "44675\n"
     ]
    },
    {
     "data": {
      "text/plain": [
       "array([[9.99960618e-01, 3.93821209e-05],\n",
       "       [9.99962228e-01, 3.77718098e-05],\n",
       "       [9.99962180e-01, 3.78195999e-05],\n",
       "       ...,\n",
       "       [9.99962636e-01, 3.73642593e-05],\n",
       "       [9.99962958e-01, 3.70417950e-05],\n",
       "       [9.99960876e-01, 3.91239063e-05]])"
      ]
     },
     "execution_count": 14,
     "metadata": {},
     "output_type": "execute_result"
    }
   ],
   "source": [
    "print(len(GNB.predict_proba(X_test)))\n",
    "GNB_probs = GNB.predict_proba(X_test)\n",
    "GNB_probs\n",
    "# print(min(GNB_probs[0])"
   ]
  },
  {
   "cell_type": "code",
   "execution_count": 15,
   "metadata": {},
   "outputs": [
    {
     "data": {
      "text/plain": [
       "array([0.99996062, 0.99996223, 0.99996218, ..., 0.99996264, 0.99996296,\n",
       "       0.99996088])"
      ]
     },
     "execution_count": 15,
     "metadata": {},
     "output_type": "execute_result"
    }
   ],
   "source": [
    "GNB_probs[:,0]"
   ]
  },
  {
   "cell_type": "code",
   "execution_count": 16,
   "metadata": {},
   "outputs": [
    {
     "data": {
      "text/plain": [
       "array([3.93821209e-05, 3.77718098e-05, 3.78195999e-05, ...,\n",
       "       3.73642593e-05, 3.70417950e-05, 3.91239063e-05])"
      ]
     },
     "execution_count": 16,
     "metadata": {},
     "output_type": "execute_result"
    }
   ],
   "source": [
    "GNB_probs[:,1]"
   ]
  },
  {
   "cell_type": "code",
   "execution_count": 17,
   "metadata": {},
   "outputs": [
    {
     "name": "stdout",
     "output_type": "stream",
     "text": [
      "min of left col = 0.0, max of right col = 1.0\n",
      "max of left col = 0.999964201117343, min of right col = 3.579888265721081e-05\n"
     ]
    }
   ],
   "source": [
    "print(f\"min of left col = {min(GNB_probs[:,0])}, max of right col = {max(GNB_probs[:,1])}\")\n",
    "print(f\"max of left col = {max(GNB_probs[:,0])}, min of right col = {min(GNB_probs[:,1])}\")"
   ]
  },
  {
   "cell_type": "code",
   "execution_count": 18,
   "metadata": {},
   "outputs": [
    {
     "data": {
      "text/plain": [
       "44675"
      ]
     },
     "execution_count": 18,
     "metadata": {},
     "output_type": "execute_result"
    }
   ],
   "source": [
    "len(GNB_probs[:,0])"
   ]
  },
  {
   "cell_type": "code",
   "execution_count": 19,
   "metadata": {},
   "outputs": [
    {
     "data": {
      "image/png": "[encoded data removed]",
      "text/plain": [
       "<Figure size 432x288 with 1 Axes>"
      ]
     },
     "metadata": {},
     "output_type": "display_data"
    }
   ],
   "source": [
    "fig, ax = plt.subplots()\n",
    "plt.scatter(GNB_probs[:,0], GNB_probs[:,1], alpha=0.5)\n",
    "\n",
    "plt.title('Probability of predicting Class 0 vs Class 0')\n",
    "ax.set_xlabel('Probabilty of predicting Class 0')\n",
    "ax.set_ylabel('Probabilty of predicting Class 1')\n",
    "\n",
    "plt.show()"
   ]
  },
  {
   "cell_type": "code",
   "execution_count": 20,
   "metadata": {},
   "outputs": [
    {
     "data": {
      "image/png": "[encoded data removed]",
      "text/plain": [
       "<Figure size 432x288 with 1 Axes>"
      ]
     },
     "metadata": {},
     "output_type": "display_data"
    }
   ],
   "source": [
    "# fig, ax = plt.subplots()\n",
    "\n",
    "# x_val=len(GNB_probs)\n",
    "\n",
    "# ax.bar(x_val, GNB_probs[:,0])\n",
    "\n",
    "# ax.set_ylabel('Probability')\n",
    "# ax.set_title('Probability of x_i being in class 0')\n",
    "# plt.show()"
   ]
  },
  {
   "cell_type": "code",
   "execution_count": 21,
   "metadata": {},
   "outputs": [
    {
     "name": "stdout",
     "output_type": "stream",
     "text": [
      "0.5313009079735511\n",
      "0.2986362749623305\n",
      "0.3761078508523502\n",
      "0.4897592123632969\n",
      "0.29902407992164654\n",
      "0.3666816512606012\n",
      "0.29948757702471085\n",
      "0.39120794390235136\n",
      "0.3968722232362767\n",
      "0.7918497173883419\n",
      "0.6764707145101211\n",
      "0.26213940256437424\n",
      "0.77795133959868\n",
      "0.24142040254775574\n",
      "0.5888738075960958\n",
      "0.441934056596483\n",
      "0.7148458918320933\n",
      "0.30628662159838443\n",
      "0.4105469758301091\n",
      "0.26649702407312975\n",
      "0.767137944132495\n",
      "0.6174123877543661\n",
      "0.5749667166903683\n",
      "0.6762486225345712\n",
      "0.30726207550258355\n",
      "0.23948604427789177\n",
      "0.7388656863352253\n",
      "0.3219343935047197\n",
      "0.4589465013569462\n",
      "0.3034210941696149\n",
      "0.5412469079314483\n",
      "0.4434604624807761\n",
      "0.48188031892757793\n",
      "0.32715992262037735\n",
      "0.6643972407298976\n",
      "0.42256942363186906\n",
      "0.7500083369178604\n",
      "0.2436540889377728\n",
      "0.3490087995217405\n",
      "0.3660010618917253\n",
      "0.7495895328685551\n",
      "0.7023873613104943\n",
      "0.7869541669101832\n",
      "0.49151123788520196\n",
      "0.7986715377357028\n",
      "0.20153067390102125\n",
      "0.644440050678691\n",
      "0.6822388528869746\n",
      "0.5838589651934732\n",
      "0.7675415305689778\n",
      "0.35656367968400954\n",
      "0.5115043427774493\n",
      "0.4055024282713102\n",
      "0.6657385282026129\n",
      "0.6695924404104043\n",
      "0.7601356617293192\n",
      "0.6313222515819867\n",
      "0.23940260711078612\n",
      "0.22684270268102358\n",
      "0.7716633876063198\n",
      "0.5575227644538571\n",
      "0.41613949865055905\n",
      "0.5887534712924599\n",
      "0.3500168267194748\n",
      "0.6480485701983745\n",
      "0.5539871173482585\n",
      "0.3173013903532145\n",
      "0.4228627476026647\n",
      "0.37776720321891294\n",
      "0.7285527530581402\n",
      "0.6115162950578161\n",
      "0.291926389372294\n",
      "0.6899914829995878\n",
      "0.6551102952656697\n",
      "0.28039422644430884\n",
      "0.5889275060210201\n",
      "0.5319913094970355\n",
      "0.35453470420130573\n",
      "0.7558954478572542\n",
      "0.7898083008175772\n",
      "0.7831287359311944\n",
      "0.7823323052230542\n",
      "0.42923958568257686\n",
      "0.4059358636490706\n",
      "0.334637873129312\n",
      "0.3830224092765356\n",
      "0.6690084594771787\n",
      "0.4225967498729282\n",
      "0.3630125659387202\n",
      "0.5784659886661893\n",
      "0.4529462086270423\n",
      "0.4491911007757656\n",
      "0.7046481623080714\n",
      "0.2205458758482822\n",
      "0.38423167029982713\n",
      "0.3362251593782873\n",
      "0.676954697365727\n",
      "0.7432889559746513\n",
      "0.22865251036082596\n",
      "0.6006106385825195\n",
      "0.7609136757690704\n",
      "0.2670509122476212\n",
      "0.5138673822799112\n",
      "0.2666781314635957\n",
      "0.4653141647157697\n",
      "0.6761263660724036\n",
      "0.2207860984198183\n",
      "0.5354435568569055\n",
      "0.4266042494943174\n",
      "0.4625684210574864\n",
      "0.5130360591877677\n",
      "0.6570116834105758\n",
      "0.2914130199490045\n",
      "0.5561520595710769\n",
      "0.6890288529657533\n",
      "0.27154649820632254\n",
      "0.7803358946958082\n",
      "0.42255934946781654\n",
      "0.5869797620246692\n",
      "0.3188473097548419\n",
      "0.5787766055773302\n",
      "0.4879406953411678\n",
      "0.37284592043897563\n",
      "0.7886719117147079\n",
      "0.5496047160176368\n",
      "0.3476037027422151\n",
      "0.7497631690250609\n",
      "0.7959413379421103\n",
      "0.38833784326212034\n",
      "0.39686795972167715\n",
      "0.3349500080730589\n",
      "0.5460939411363162\n",
      "0.7918866480485821\n",
      "0.44766801770716697\n",
      "0.6577704291852314\n",
      "0.28652775966240057\n",
      "0.654679159587274\n",
      "0.6178230852744908\n",
      "0.3029440942232001\n",
      "0.22158227592815705\n",
      "0.7888191886119527\n",
      "0.5548740850679209\n",
      "0.22170959991378933\n",
      "0.7462095403701858\n",
      "0.7014495078186405\n",
      "0.20836131325040333\n",
      "0.4087821532811733\n",
      "0.342750724789839\n",
      "0.47236569715162535\n",
      "0.23861826193594754\n",
      "0.6085101205412132\n",
      "0.4038416774075451\n",
      "0.6932485575285525\n",
      "0.6040820754717015\n",
      "0.5439402998571508\n",
      "0.43291391782803895\n",
      "0.7953507759201204\n",
      "0.23465479889305926\n",
      "0.7035515614317117\n",
      "0.7235363233080236\n",
      "0.7838387273764399\n",
      "0.3251865515430646\n",
      "0.759233403836476\n",
      "0.6140436688074451\n",
      "0.6722182639425512\n",
      "0.6555075582822321\n",
      "0.7484382390874029\n",
      "0.2601895075500782\n",
      "# of val around 0.5 = 168\n"
     ]
    }
   ],
   "source": [
    "count = 0\n",
    "for val in GNB_probs[:,0]:\n",
    "    if 0.8 > val > 0.2:\n",
    "        count += 1\n",
    "        print(val)\n",
    "\n",
    "print(f\"# of val around 0.5 = {count}\")"
   ]
  },
  {
   "cell_type": "markdown",
   "metadata": {},
   "source": [
    "### Calculating GaussianNB Precision, Recall, F1 score. Then \"Precision vs. Recall\" Plot and F1 score plot"
   ]
  },
  {
   "cell_type": "code",
   "execution_count": 22,
   "metadata": {},
   "outputs": [],
   "source": [
    "from sklearn.metrics import roc_curve, roc_auc_score\n",
    "from sklearn.model_selection import cross_val_predict\n",
    "\n",
    "from sklearn.metrics import precision_score, recall_score, f1_score\n",
    "from sklearn.metrics import precision_recall_curve"
   ]
  },
  {
   "cell_type": "code",
   "execution_count": 23,
   "metadata": {},
   "outputs": [],
   "source": [
    "def plot_precision_vs_recall(precisions, recalls):\n",
    "    plt.plot(recalls, precisions, \"b-\", linewidth=2)\n",
    "    plt.xlabel(\"Recall\", fontsize=16)\n",
    "    plt.ylabel(\"Precision\", fontsize=16)\n",
    "    plt.axis([0, 1, 0, 1])\n",
    "    plt.grid(True)"
   ]
  },
  {
   "cell_type": "code",
   "execution_count": 24,
   "metadata": {},
   "outputs": [
    {
     "data": {
      "text/plain": [
       "134024"
      ]
     },
     "execution_count": 24,
     "metadata": {},
     "output_type": "execute_result"
    }
   ],
   "source": [
    "len(y_train)"
   ]
  },
  {
   "cell_type": "code",
   "execution_count": 25,
   "metadata": {},
   "outputs": [
    {
     "data": {
      "text/plain": [
       "44675"
      ]
     },
     "execution_count": 25,
     "metadata": {},
     "output_type": "execute_result"
    }
   ],
   "source": [
    "len(GNB_probs[:, 1])"
   ]
  },
  {
   "cell_type": "code",
   "execution_count": 26,
   "metadata": {},
   "outputs": [],
   "source": [
    "GNB_predicted = GNB.predict(X_test)"
   ]
  },
  {
   "cell_type": "code",
   "execution_count": 31,
   "metadata": {},
   "outputs": [
    {
     "name": "stdout",
     "output_type": "stream",
     "text": [
      "Precision Score: 0.22816032887975335\n",
      "Recall Score: 0.1661676646706587\n",
      "F1 Score: 0.19229103508012127\n"
     ]
    }
   ],
   "source": [
    "GNB_precision = precision_score(y_test, GNB_predicted)\n",
    "GNB_recall = recall_score(y_test, GNB_predicted)\n",
    "GNB_f1 = f1_score(y_test, GNB_predicted)\n",
    "\n",
    "print(f'Precision Score: {GNB_precision}')\n",
    "print(f'Recall Score: {GNB_recall}')\n",
    "print(f'F1 Score: {GNB_f1}')"
   ]
  },
  {
   "cell_type": "code",
   "execution_count": null,
   "metadata": {},
   "outputs": [],
   "source": [
    "GNB_probs_2 = cross_val_predict(GNB, X_train, y_train, cv=3,\n",
    "                                    method=\"predict_proba\")\n",
    "\n",
    "GNB_class0_scores = GNB_probs_2[:, 0]\n",
    "GNB_class1_scores = GNB_probs_2[:, 1]\n",
    "# y_scores_XT = GNB_probs_2[:, 1]\n",
    "GNB_fpr, GNB_tpr, GNB_thresholds = roc_curve(y_train, GNB_class1_scores)"
   ]
  },
  {
   "cell_type": "code",
   "execution_count": null,
   "metadata": {},
   "outputs": [],
   "source": [
    "GNB_class0_scores"
   ]
  },
  {
   "cell_type": "code",
   "execution_count": null,
   "metadata": {},
   "outputs": [],
   "source": [
    "def plot_roc_curve(fpr, tpr, label=None):\n",
    "    plt.plot(fpr, tpr, linewidth=2, label=label)\n",
    "    plt.plot([0, 1], [0, 1], 'k--') # dashed diagonal\n",
    "    plt.axis([0, 1, 0, 1])                                    # Not shown in the book\n",
    "    plt.xlabel('False Positive Rate (Fall-Out)', fontsize=16) # Not shown\n",
    "    plt.ylabel('True Positive Rate (Recall)', fontsize=16)    # Not shown\n",
    "#     plt.set_title(lalbe)\n",
    "    plt.grid(True)                                            # Not shown\n"
   ]
  },
  {
   "cell_type": "code",
   "execution_count": null,
   "metadata": {},
   "outputs": [],
   "source": [
    "#subplot dotted lines and dots from textbook\n",
    "plt.figure(figsize=(8, 6))                         # Not shown\n",
    "plot_roc_curve(GNB_fpr, GNB_tpr, \"ROC Curve for GaussianNB\")\n",
    "\n",
    "plt.show()"
   ]
  },
  {
   "cell_type": "code",
   "execution_count": null,
   "metadata": {},
   "outputs": [],
   "source": [
    "GNB_precisions, GNB_recalls, GNB_thresholds = precision_recall_curve(y_train, GNB_class1_scores)\n",
    "\n",
    "plt.figure(figsize=(8, 6))\n",
    "plot_precision_vs_recall(GNB_precisions, GNB_recalls)\n",
    "\n",
    "plt.show()"
   ]
  },
  {
   "cell_type": "markdown",
   "metadata": {},
   "source": [
    "## Reappending the prediction probabilites after Gaussian NB back on X_test, to observe some behavior"
   ]
  },
  {
   "cell_type": "code",
   "execution_count": null,
   "metadata": {},
   "outputs": [],
   "source": [
    "X_test_probs = X_test\n",
    "X_test_probs['prob_0'] = GNB_probs[:,0]\n",
    "X_test_probs['prob_1'] = GNB_probs[:,1]\n",
    "X_test_probs['label'] = y_test\n",
    "X_test_probs"
   ]
  },
  {
   "cell_type": "code",
   "execution_count": null,
   "metadata": {},
   "outputs": [],
   "source": [
    "# to first affirm that prob_0 and prob_1 were truly labeled as what they were supposed to be\n",
    "\n",
    "count = 0\n",
    "for i, row in X_test_probs.iterrows():\n",
    "    count += 1\n",
    "    if count > 5:\n",
    "        break\n",
    "    print(f'i:{i}, V:{row.views}, L:{row.likes}, D:{row.dislikes}, C:{row.comment_count}')\n",
    "    print(f'i:{i}, Prob_0:{row.prob_0}, Prob_1:{row.prob_1}, Label:{row.label}\\n')"
   ]
  },
  {
   "cell_type": "code",
   "execution_count": null,
   "metadata": {},
   "outputs": [],
   "source": [
    "count = 0\n",
    "for i, row in X_caltest_probs.iterrows():\n",
    "    if 0.65 > row.prob_0 > 0.45:\n",
    "        count += 1\n",
    "        print(f'i:{i}, V:{row.views}, L:{row.likes}, D:{row.dislikes}, C:{row.comment_count}')\n",
    "        print(f'i:{i}, Prob_0:{row.prob_0}, Prob_1:{row.prob_1}, Label:{row.label}\\n')\n",
    "        \n",
    "print(f'\\nCount = {count}')"
   ]
  },
  {
   "cell_type": "code",
   "execution_count": null,
   "metadata": {},
   "outputs": [],
   "source": []
  },
  {
   "cell_type": "code",
   "execution_count": null,
   "metadata": {},
   "outputs": [],
   "source": []
  },
  {
   "cell_type": "markdown",
   "metadata": {},
   "source": [
    "### Other observations"
   ]
  },
  {
   "cell_type": "code",
   "execution_count": null,
   "metadata": {},
   "outputs": [],
   "source": [
    "len(X_test)"
   ]
  },
  {
   "cell_type": "code",
   "execution_count": null,
   "metadata": {},
   "outputs": [],
   "source": [
    "np.array(X_test[19:20])"
   ]
  },
  {
   "cell_type": "code",
   "execution_count": null,
   "metadata": {},
   "outputs": [],
   "source": [
    "y_test[19:20]"
   ]
  },
  {
   "cell_type": "code",
   "execution_count": null,
   "metadata": {},
   "outputs": [],
   "source": [
    "GNB.predict_proba(X_test[:-1])"
   ]
  },
  {
   "cell_type": "code",
   "execution_count": null,
   "metadata": {},
   "outputs": [],
   "source": [
    "GNB.predict(X_test[5::-1])"
   ]
  },
  {
   "cell_type": "code",
   "execution_count": null,
   "metadata": {},
   "outputs": [],
   "source": [
    "# custom \n",
    "print(GNB.predict(np.array([[17158579, 787425, 43420, 125882]])))\n",
    "print(GNB.predict_proba(np.array([[17158579, 787425, 43420, 125882]])))"
   ]
  },
  {
   "cell_type": "code",
   "execution_count": null,
   "metadata": {},
   "outputs": [],
   "source": [
    "# custom \n",
    "arr2 = [4567, 787, 430, 125]\n",
    "print(GNB.predict(np.array([arr2])))\n",
    "print(GNB.predict_proba(np.array([arr2])))"
   ]
  },
  {
   "cell_type": "markdown",
   "metadata": {},
   "source": [
    "### Using only views, comments, and likes to graph 3D"
   ]
  },
  {
   "cell_type": "code",
   "execution_count": null,
   "metadata": {},
   "outputs": [],
   "source": [
    "X3 = X.drop(['dislikes'],axis=1)\n",
    "X3"
   ]
  },
  {
   "cell_type": "code",
   "execution_count": null,
   "metadata": {},
   "outputs": [],
   "source": [
    "X3_train, X3_test, y3_train, y3_test = train_test_split(X3, y, test_size=0.25, random_state=42)"
   ]
  },
  {
   "cell_type": "code",
   "execution_count": null,
   "metadata": {},
   "outputs": [],
   "source": [
    "X3_train"
   ]
  },
  {
   "cell_type": "code",
   "execution_count": null,
   "metadata": {},
   "outputs": [],
   "source": [
    "y3_train"
   ]
  },
  {
   "cell_type": "markdown",
   "metadata": {},
   "source": [
    "### Gaussian Naive Bayes on views, comments, likes, only"
   ]
  },
  {
   "cell_type": "code",
   "execution_count": null,
   "metadata": {},
   "outputs": [],
   "source": [
    "GNB_3 = GaussianNB()\n",
    "GNB_3.fit(X3_train, y3_train)"
   ]
  },
  {
   "cell_type": "code",
   "execution_count": null,
   "metadata": {},
   "outputs": [],
   "source": [
    "GNB_3.score(X3_test, y3_test)"
   ]
  },
  {
   "cell_type": "code",
   "execution_count": null,
   "metadata": {},
   "outputs": [],
   "source": [
    "from sklearn.model_selection import cross_val_score\n",
    "\n",
    "GNB_3_cvs = cross_val_score(GNB_3, X, y, \n",
    "                          cv=10, \n",
    "                          n_jobs=-1,)\n",
    "\n",
    "print(GNB_3_cvs)\n",
    "print(f\"GaussianNB 10-fold Cross Val Avg: {np.mean(GNB_3_cvs)}\")"
   ]
  },
  {
   "cell_type": "markdown",
   "metadata": {},
   "source": [
    "### Bernoulli Naive Bayes on 4 stats, then the 3 stats"
   ]
  },
  {
   "cell_type": "code",
   "execution_count": null,
   "metadata": {},
   "outputs": [],
   "source": [
    "from sklearn.naive_bayes import BernoulliNB\n",
    "\n",
    "BNB = BernoulliNB()\n",
    "BNB.fit(X_train, y_train)"
   ]
  },
  {
   "cell_type": "code",
   "execution_count": null,
   "metadata": {},
   "outputs": [],
   "source": [
    "BNB.score(X_test, y_test)"
   ]
  },
  {
   "cell_type": "code",
   "execution_count": null,
   "metadata": {},
   "outputs": [],
   "source": [
    "BNB_cvs = cross_val_score(BNB, X, y, \n",
    "                          cv=10, \n",
    "                          n_jobs=-1,)\n",
    "\n",
    "print(f\"GaussianNB 10-CV score: {BNB_cvs}\")\n",
    "print(f\"GaussianNB 10-fold Cross Val Avg: {np.mean(BNB_cvs)}\")"
   ]
  },
  {
   "cell_type": "code",
   "execution_count": null,
   "metadata": {},
   "outputs": [],
   "source": [
    "from sklearn.naive_bayes import BernoulliNB\n",
    "\n",
    "BNB = BernoulliNB()\n",
    "BNB.fit(X3_train, y_train)"
   ]
  },
  {
   "cell_type": "code",
   "execution_count": null,
   "metadata": {},
   "outputs": [],
   "source": [
    "BNB.score(X3_test, y_test)"
   ]
  },
  {
   "cell_type": "code",
   "execution_count": null,
   "metadata": {},
   "outputs": [],
   "source": [
    "BNB_cvs = cross_val_score(BNB, X, y, \n",
    "                          cv=10, \n",
    "                          n_jobs=-1,)\n",
    "\n",
    "print(f\"GaussianNB 10-CV score: {BNB_cvs}\")\n",
    "print(f\"GaussianNB 10-fold Cross Val Avg: {np.mean(BNB_cvs)}\")"
   ]
  },
  {
   "cell_type": "markdown",
   "metadata": {},
   "source": [
    "### Random Forest Classifier on 4 stats, looking at feature importance"
   ]
  },
  {
   "cell_type": "code",
   "execution_count": null,
   "metadata": {},
   "outputs": [],
   "source": [
    "%%time \n",
    "from sklearn.ensemble import RandomForestClassifier\n",
    "\n",
    "rf_clf = RandomForestClassifier()\n",
    "rf_clf.fit(X_train,y_train)"
   ]
  },
  {
   "cell_type": "code",
   "execution_count": null,
   "metadata": {},
   "outputs": [],
   "source": [
    "%%time\n",
    "rf_clf.score(X_test,y_test)"
   ]
  },
  {
   "cell_type": "markdown",
   "metadata": {},
   "source": [
    "## Taking a look at feature importance from Random Forest"
   ]
  },
  {
   "cell_type": "code",
   "execution_count": null,
   "metadata": {},
   "outputs": [],
   "source": [
    "# quick investigation into the correlation of features to the label\n",
    "df_nostr.corr()[\"trend_over_5_days\"].sort_values(ascending=False)"
   ]
  },
  {
   "cell_type": "code",
   "execution_count": null,
   "metadata": {},
   "outputs": [],
   "source": [
    "rf_clf.feature_importances_"
   ]
  },
  {
   "cell_type": "code",
   "execution_count": null,
   "metadata": {},
   "outputs": [],
   "source": [
    "plt.barh(X.columns, rf_clf.feature_importances_)"
   ]
  },
  {
   "cell_type": "code",
   "execution_count": null,
   "metadata": {},
   "outputs": [],
   "source": [
    "%%time\n",
    "import shap\n",
    "\n",
    "explainer = shap.TreeExplainer(rf_clf)"
   ]
  },
  {
   "cell_type": "code",
   "execution_count": null,
   "metadata": {},
   "outputs": [],
   "source": [
    "%%time\n",
    "shap_values = explainer.shap_values(X_test)"
   ]
  },
  {
   "cell_type": "code",
   "execution_count": null,
   "metadata": {},
   "outputs": [],
   "source": [
    "shap.summary_plot(shape_values, X_test, plot_type=\"bar\")"
   ]
  },
  {
   "cell_type": "code",
   "execution_count": null,
   "metadata": {},
   "outputs": [],
   "source": [
    "shap.summary_plot(shape_values, X_train)"
   ]
  },
  {
   "cell_type": "code",
   "execution_count": null,
   "metadata": {},
   "outputs": [],
   "source": [
    "# X = np.array([[-1, -1], [-2, -1], [1, 1], [2, 1]])\n",
    "# y = np.array([1, 1, 2, 2])\n",
    "# from sklearn.svm import SVC\n",
    "# clf = SVC(probability=True)\n",
    "# clf.fit(X, y) \n",
    "# print(clf.predict([[-0.8, -1]]))\n",
    "# print(clf.predict_proba([[-0.8, -1]]))"
   ]
  },
  {
   "cell_type": "markdown",
   "metadata": {},
   "source": [
    "### Heat Map remade with Spearman's rank correlation "
   ]
  },
  {
   "cell_type": "code",
   "execution_count": null,
   "metadata": {},
   "outputs": [],
   "source": [
    "import seaborn as sns\n",
    "\n",
    "sns.heatmap(df_nostr.corr(method='spearman'),annot=True,cmap='coolwarm')"
   ]
  },
  {
   "cell_type": "code",
   "execution_count": null,
   "metadata": {},
   "outputs": [],
   "source": [
    "sns.heatmap(df_nostr.corr(method='pearson'),annot=True,cmap='coolwarm_r')"
   ]
  },
  {
   "cell_type": "code",
   "execution_count": null,
   "metadata": {},
   "outputs": [],
   "source": [
    "df_nostr.corr(method='pearson')['trend_over_5_days']"
   ]
  },
  {
   "cell_type": "code",
   "execution_count": null,
   "metadata": {},
   "outputs": [],
   "source": []
  }
 ],
 "metadata": {
  "kernelspec": {
   "display_name": "Python 3",
   "language": "python",
   "name": "python3"
  },
  "language_info": {
   "codemirror_mode": {
    "name": "ipython",
    "version": 3
   },
   "file_extension": ".py",
   "mimetype": "text/x-python",
   "name": "python",
   "nbconvert_exporter": "python",
   "pygments_lexer": "ipython3",
   "version": "3.6.5"
  }
 },
 "nbformat": 4,
 "nbformat_minor": 4
}
